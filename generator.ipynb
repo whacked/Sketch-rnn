{
 "cells": [
  {
   "cell_type": "code",
   "execution_count": 1,
   "metadata": {
    "execution": {
     "iopub.execute_input": "2024-07-21T16:13:45.143335Z",
     "iopub.status.busy": "2024-07-21T16:13:45.142932Z",
     "iopub.status.idle": "2024-07-21T16:13:47.142871Z",
     "shell.execute_reply": "2024-07-21T16:13:47.141939Z",
     "shell.execute_reply.started": "2024-07-21T16:13:45.143322Z"
    }
   },
   "outputs": [
    {
     "name": "stderr",
     "output_type": "stream",
     "text": [
      "2024-07-22 00:13:45.534743: I tensorflow/core/util/port.cc:153] oneDNN custom operations are on. You may see slightly different numerical results due to floating-point round-off errors from different computation orders. To turn them off, set the environment variable `TF_ENABLE_ONEDNN_OPTS=0`.\n",
      "2024-07-22 00:13:45.640745: E external/local_xla/xla/stream_executor/cuda/cuda_fft.cc:485] Unable to register cuFFT factory: Attempting to register factory for plugin cuFFT when one has already been registered\n",
      "2024-07-22 00:13:45.681167: E external/local_xla/xla/stream_executor/cuda/cuda_dnn.cc:8454] Unable to register cuDNN factory: Attempting to register factory for plugin cuDNN when one has already been registered\n",
      "2024-07-22 00:13:45.692375: E external/local_xla/xla/stream_executor/cuda/cuda_blas.cc:1452] Unable to register cuBLAS factory: Attempting to register factory for plugin cuBLAS when one has already been registered\n",
      "2024-07-22 00:13:45.771581: I tensorflow/core/platform/cpu_feature_guard.cc:210] This TensorFlow binary is optimized to use available CPU instructions in performance-critical operations.\n",
      "To enable the following instructions: AVX2 AVX512F AVX512_VNNI AVX512_BF16 FMA, in other operations, rebuild TensorFlow with the appropriate compiler flags.\n",
      "2024-07-22 00:13:46.404892: W tensorflow/compiler/tf2tensorrt/utils/py_utils.cc:38] TF-TRT Warning: Could not find TensorRT\n"
     ]
    }
   ],
   "source": [
    "import draw\n",
    "import data_Manager\n",
    "import matplotlib.pyplot as plt\n",
    "import tensorflow as tf\n",
    "import numpy as np\n",
    "from HyperParameters import HP\n",
    "import train as tu\n",
    "import generate as g\n",
    "model_name = \"model_weight_carrot_50_epochs\""
   ]
  },
  {
   "cell_type": "code",
   "execution_count": 2,
   "metadata": {
    "execution": {
     "iopub.execute_input": "2024-07-21T16:13:59.512395Z",
     "iopub.status.busy": "2024-07-21T16:13:59.512221Z",
     "iopub.status.idle": "2024-07-21T16:14:00.002606Z",
     "shell.execute_reply": "2024-07-21T16:14:00.002246Z",
     "shell.execute_reply.started": "2024-07-21T16:13:59.512384Z"
    }
   },
   "outputs": [
    {
     "name": "stderr",
     "output_type": "stream",
     "text": [
      "WARNING: All log messages before absl::InitializeLog() is called are written to STDERR\n",
      "I0000 00:00:1721578439.579434  260277 cuda_executor.cc:1001] could not open file to read NUMA node: /sys/bus/pci/devices/0000:01:00.0/numa_node\n",
      "Your kernel may have been built without NUMA support.\n",
      "I0000 00:00:1721578439.667788  260277 cuda_executor.cc:1001] could not open file to read NUMA node: /sys/bus/pci/devices/0000:01:00.0/numa_node\n",
      "Your kernel may have been built without NUMA support.\n",
      "I0000 00:00:1721578439.667828  260277 cuda_executor.cc:1001] could not open file to read NUMA node: /sys/bus/pci/devices/0000:01:00.0/numa_node\n",
      "Your kernel may have been built without NUMA support.\n",
      "I0000 00:00:1721578439.670579  260277 cuda_executor.cc:1001] could not open file to read NUMA node: /sys/bus/pci/devices/0000:01:00.0/numa_node\n",
      "Your kernel may have been built without NUMA support.\n",
      "I0000 00:00:1721578439.670604  260277 cuda_executor.cc:1001] could not open file to read NUMA node: /sys/bus/pci/devices/0000:01:00.0/numa_node\n",
      "Your kernel may have been built without NUMA support.\n",
      "I0000 00:00:1721578439.670618  260277 cuda_executor.cc:1001] could not open file to read NUMA node: /sys/bus/pci/devices/0000:01:00.0/numa_node\n",
      "Your kernel may have been built without NUMA support.\n",
      "I0000 00:00:1721578439.756093  260277 cuda_executor.cc:1001] could not open file to read NUMA node: /sys/bus/pci/devices/0000:01:00.0/numa_node\n",
      "Your kernel may have been built without NUMA support.\n",
      "I0000 00:00:1721578439.756176  260277 cuda_executor.cc:1001] could not open file to read NUMA node: /sys/bus/pci/devices/0000:01:00.0/numa_node\n",
      "Your kernel may have been built without NUMA support.\n",
      "2024-07-22 00:13:59.756189: I tensorflow/core/common_runtime/gpu/gpu_device.cc:2112] Could not identify NUMA node of platform GPU id 0, defaulting to 0.  Your kernel may not have been built with NUMA support.\n",
      "I0000 00:00:1721578439.756244  260277 cuda_executor.cc:1001] could not open file to read NUMA node: /sys/bus/pci/devices/0000:01:00.0/numa_node\n",
      "Your kernel may have been built without NUMA support.\n",
      "2024-07-22 00:13:59.757079: I tensorflow/core/common_runtime/gpu/gpu_device.cc:2021] Created device /job:localhost/replica:0/task:0/device:GPU:0 with 9525 MB memory:  -> device: 0, name: NVIDIA GeForce RTX 4080 Laptop GPU, pci bus id: 0000:01:00.0, compute capability: 8.9\n"
     ]
    },
    {
     "data": {
      "text/html": [
       "<pre style=\"white-space:pre;overflow-x:auto;line-height:normal;font-family:Menlo,'DejaVu Sans Mono',consolas,'Courier New',monospace\"><span style=\"font-weight: bold\">Model: \"functional\"</span>\n",
       "</pre>\n"
      ],
      "text/plain": [
       "\u001b[1mModel: \"functional\"\u001b[0m\n"
      ]
     },
     "metadata": {},
     "output_type": "display_data"
    },
    {
     "data": {
      "text/html": [
       "<pre style=\"white-space:pre;overflow-x:auto;line-height:normal;font-family:Menlo,'DejaVu Sans Mono',consolas,'Courier New',monospace\">┏━━━━━━━━━━━━━━━━━━━━━━━━━━━━━━━━━┳━━━━━━━━━━━━━━━━━━━━━━━━┳━━━━━━━━━━━━━━━┓\n",
       "┃<span style=\"font-weight: bold\"> Layer (type)                    </span>┃<span style=\"font-weight: bold\"> Output Shape           </span>┃<span style=\"font-weight: bold\">       Param # </span>┃\n",
       "┡━━━━━━━━━━━━━━━━━━━━━━━━━━━━━━━━━╇━━━━━━━━━━━━━━━━━━━━━━━━╇━━━━━━━━━━━━━━━┩\n",
       "│ input_layer (<span style=\"color: #0087ff; text-decoration-color: #0087ff\">InputLayer</span>)        │ (<span style=\"color: #00d7ff; text-decoration-color: #00d7ff\">None</span>, <span style=\"color: #00af00; text-decoration-color: #00af00\">256</span>)            │             <span style=\"color: #00af00; text-decoration-color: #00af00\">0</span> │\n",
       "├─────────────────────────────────┼────────────────────────┼───────────────┤\n",
       "│ decoder_init_stat (<span style=\"color: #0087ff; text-decoration-color: #0087ff\">Dense</span>)       │ (<span style=\"color: #00d7ff; text-decoration-color: #00d7ff\">None</span>, <span style=\"color: #00af00; text-decoration-color: #00af00\">1024</span>)           │       <span style=\"color: #00af00; text-decoration-color: #00af00\">263,168</span> │\n",
       "└─────────────────────────────────┴────────────────────────┴───────────────┘\n",
       "</pre>\n"
      ],
      "text/plain": [
       "┏━━━━━━━━━━━━━━━━━━━━━━━━━━━━━━━━━┳━━━━━━━━━━━━━━━━━━━━━━━━┳━━━━━━━━━━━━━━━┓\n",
       "┃\u001b[1m \u001b[0m\u001b[1mLayer (type)                   \u001b[0m\u001b[1m \u001b[0m┃\u001b[1m \u001b[0m\u001b[1mOutput Shape          \u001b[0m\u001b[1m \u001b[0m┃\u001b[1m \u001b[0m\u001b[1m      Param #\u001b[0m\u001b[1m \u001b[0m┃\n",
       "┡━━━━━━━━━━━━━━━━━━━━━━━━━━━━━━━━━╇━━━━━━━━━━━━━━━━━━━━━━━━╇━━━━━━━━━━━━━━━┩\n",
       "│ input_layer (\u001b[38;5;33mInputLayer\u001b[0m)        │ (\u001b[38;5;45mNone\u001b[0m, \u001b[38;5;34m256\u001b[0m)            │             \u001b[38;5;34m0\u001b[0m │\n",
       "├─────────────────────────────────┼────────────────────────┼───────────────┤\n",
       "│ decoder_init_stat (\u001b[38;5;33mDense\u001b[0m)       │ (\u001b[38;5;45mNone\u001b[0m, \u001b[38;5;34m1024\u001b[0m)           │       \u001b[38;5;34m263,168\u001b[0m │\n",
       "└─────────────────────────────────┴────────────────────────┴───────────────┘\n"
      ]
     },
     "metadata": {},
     "output_type": "display_data"
    },
    {
     "data": {
      "text/html": [
       "<pre style=\"white-space:pre;overflow-x:auto;line-height:normal;font-family:Menlo,'DejaVu Sans Mono',consolas,'Courier New',monospace\"><span style=\"font-weight: bold\"> Total params: </span><span style=\"color: #00af00; text-decoration-color: #00af00\">263,168</span> (1.00 MB)\n",
       "</pre>\n"
      ],
      "text/plain": [
       "\u001b[1m Total params: \u001b[0m\u001b[38;5;34m263,168\u001b[0m (1.00 MB)\n"
      ]
     },
     "metadata": {},
     "output_type": "display_data"
    },
    {
     "data": {
      "text/html": [
       "<pre style=\"white-space:pre;overflow-x:auto;line-height:normal;font-family:Menlo,'DejaVu Sans Mono',consolas,'Courier New',monospace\"><span style=\"font-weight: bold\"> Trainable params: </span><span style=\"color: #00af00; text-decoration-color: #00af00\">263,168</span> (1.00 MB)\n",
       "</pre>\n"
      ],
      "text/plain": [
       "\u001b[1m Trainable params: \u001b[0m\u001b[38;5;34m263,168\u001b[0m (1.00 MB)\n"
      ]
     },
     "metadata": {},
     "output_type": "display_data"
    },
    {
     "data": {
      "text/html": [
       "<pre style=\"white-space:pre;overflow-x:auto;line-height:normal;font-family:Menlo,'DejaVu Sans Mono',consolas,'Courier New',monospace\"><span style=\"font-weight: bold\"> Non-trainable params: </span><span style=\"color: #00af00; text-decoration-color: #00af00\">0</span> (0.00 B)\n",
       "</pre>\n"
      ],
      "text/plain": [
       "\u001b[1m Non-trainable params: \u001b[0m\u001b[38;5;34m0\u001b[0m (0.00 B)\n"
      ]
     },
     "metadata": {},
     "output_type": "display_data"
    }
   ],
   "source": [
    "# model for predicting the inital state \n",
    "batch_z = tf.keras.Input(shape=(HP.latent_dim,))\n",
    "initial_state = tf.keras.layers.Dense(units=(2*HP.dec_hidden_size), activation='tanh', name = \"decoder_init_stat\")(batch_z)\n",
    "latent_to_hidden_state_model = tf.keras.Model(inputs=batch_z, outputs=initial_state)\n",
    "latent_to_hidden_state_model.load_weights(\"model/\"+model_name+\".h5\", by_name = True)\n",
    "latent_to_hidden_state_model.summary()"
   ]
  },
  {
   "cell_type": "code",
   "execution_count": 3,
   "metadata": {
    "execution": {
     "iopub.execute_input": "2024-07-21T16:14:04.057514Z",
     "iopub.status.busy": "2024-07-21T16:14:04.057147Z",
     "iopub.status.idle": "2024-07-21T16:14:04.280150Z",
     "shell.execute_reply": "2024-07-21T16:14:04.279572Z",
     "shell.execute_reply.started": "2024-07-21T16:14:04.057502Z"
    }
   },
   "outputs": [
    {
     "name": "stderr",
     "output_type": "stream",
     "text": [
      "WARNING: All log messages before absl::InitializeLog() is called are written to STDERR\n",
      "W0000 00:00:1721578444.227068  260277 gpu_kernel_to_blob_pass.cc:190] Failed to compile generated PTX with ptxas. Falling back to compilation by driver.\n"
     ]
    },
    {
     "data": {
      "text/html": [
       "<pre style=\"white-space:pre;overflow-x:auto;line-height:normal;font-family:Menlo,'DejaVu Sans Mono',consolas,'Courier New',monospace\"><span style=\"font-weight: bold\">Model: \"functional_1\"</span>\n",
       "</pre>\n"
      ],
      "text/plain": [
       "\u001b[1mModel: \"functional_1\"\u001b[0m\n"
      ]
     },
     "metadata": {},
     "output_type": "display_data"
    },
    {
     "data": {
      "text/html": [
       "<pre style=\"white-space:pre;overflow-x:auto;line-height:normal;font-family:Menlo,'DejaVu Sans Mono',consolas,'Courier New',monospace\">┏━━━━━━━━━━━━━━━━━━━━━┳━━━━━━━━━━━━━━━━━━━┳━━━━━━━━━━━━┳━━━━━━━━━━━━━━━━━━━┓\n",
       "┃<span style=\"font-weight: bold\"> Layer (type)        </span>┃<span style=\"font-weight: bold\"> Output Shape      </span>┃<span style=\"font-weight: bold\">    Param # </span>┃<span style=\"font-weight: bold\"> Connected to      </span>┃\n",
       "┡━━━━━━━━━━━━━━━━━━━━━╇━━━━━━━━━━━━━━━━━━━╇━━━━━━━━━━━━╇━━━━━━━━━━━━━━━━━━━┩\n",
       "│ input_layer_1       │ (<span style=\"color: #00d7ff; text-decoration-color: #00d7ff\">None</span>, <span style=\"color: #00af00; text-decoration-color: #00af00\">1</span>, <span style=\"color: #00af00; text-decoration-color: #00af00\">261</span>)    │          <span style=\"color: #00af00; text-decoration-color: #00af00\">0</span> │ -                 │\n",
       "│ (<span style=\"color: #0087ff; text-decoration-color: #0087ff\">InputLayer</span>)        │                   │            │                   │\n",
       "├─────────────────────┼───────────────────┼────────────┼───────────────────┤\n",
       "│ input_layer_2       │ (<span style=\"color: #00d7ff; text-decoration-color: #00d7ff\">None</span>, <span style=\"color: #00af00; text-decoration-color: #00af00\">512</span>)       │          <span style=\"color: #00af00; text-decoration-color: #00af00\">0</span> │ -                 │\n",
       "│ (<span style=\"color: #0087ff; text-decoration-color: #0087ff\">InputLayer</span>)        │                   │            │                   │\n",
       "├─────────────────────┼───────────────────┼────────────┼───────────────────┤\n",
       "│ input_layer_3       │ (<span style=\"color: #00d7ff; text-decoration-color: #00d7ff\">None</span>, <span style=\"color: #00af00; text-decoration-color: #00af00\">512</span>)       │          <span style=\"color: #00af00; text-decoration-color: #00af00\">0</span> │ -                 │\n",
       "│ (<span style=\"color: #0087ff; text-decoration-color: #0087ff\">InputLayer</span>)        │                   │            │                   │\n",
       "├─────────────────────┼───────────────────┼────────────┼───────────────────┤\n",
       "│ LSTM_decoder (<span style=\"color: #0087ff; text-decoration-color: #0087ff\">LSTM</span>) │ [(<span style=\"color: #00d7ff; text-decoration-color: #00d7ff\">None</span>, <span style=\"color: #00af00; text-decoration-color: #00af00\">1</span>, <span style=\"color: #00af00; text-decoration-color: #00af00\">512</span>),  │  <span style=\"color: #00af00; text-decoration-color: #00af00\">1,585,152</span> │ input_layer_1[<span style=\"color: #00af00; text-decoration-color: #00af00\">0</span>]… │\n",
       "│                     │ (<span style=\"color: #00d7ff; text-decoration-color: #00d7ff\">None</span>, <span style=\"color: #00af00; text-decoration-color: #00af00\">512</span>),      │            │ input_layer_2[<span style=\"color: #00af00; text-decoration-color: #00af00\">0</span>]… │\n",
       "│                     │ (<span style=\"color: #00d7ff; text-decoration-color: #00d7ff\">None</span>, <span style=\"color: #00af00; text-decoration-color: #00af00\">512</span>)]      │            │ input_layer_3[<span style=\"color: #00af00; text-decoration-color: #00af00\">0</span>]… │\n",
       "├─────────────────────┼───────────────────┼────────────┼───────────────────┤\n",
       "│ output_layer        │ (<span style=\"color: #00d7ff; text-decoration-color: #00d7ff\">None</span>, <span style=\"color: #00af00; text-decoration-color: #00af00\">1</span>, <span style=\"color: #00af00; text-decoration-color: #00af00\">123</span>)    │     <span style=\"color: #00af00; text-decoration-color: #00af00\">63,099</span> │ LSTM_decoder[<span style=\"color: #00af00; text-decoration-color: #00af00\">0</span>][<span style=\"color: #00af00; text-decoration-color: #00af00\">…</span> │\n",
       "│ (<span style=\"color: #0087ff; text-decoration-color: #0087ff\">Dense</span>)             │                   │            │                   │\n",
       "└─────────────────────┴───────────────────┴────────────┴───────────────────┘\n",
       "</pre>\n"
      ],
      "text/plain": [
       "┏━━━━━━━━━━━━━━━━━━━━━┳━━━━━━━━━━━━━━━━━━━┳━━━━━━━━━━━━┳━━━━━━━━━━━━━━━━━━━┓\n",
       "┃\u001b[1m \u001b[0m\u001b[1mLayer (type)       \u001b[0m\u001b[1m \u001b[0m┃\u001b[1m \u001b[0m\u001b[1mOutput Shape     \u001b[0m\u001b[1m \u001b[0m┃\u001b[1m \u001b[0m\u001b[1m   Param #\u001b[0m\u001b[1m \u001b[0m┃\u001b[1m \u001b[0m\u001b[1mConnected to     \u001b[0m\u001b[1m \u001b[0m┃\n",
       "┡━━━━━━━━━━━━━━━━━━━━━╇━━━━━━━━━━━━━━━━━━━╇━━━━━━━━━━━━╇━━━━━━━━━━━━━━━━━━━┩\n",
       "│ input_layer_1       │ (\u001b[38;5;45mNone\u001b[0m, \u001b[38;5;34m1\u001b[0m, \u001b[38;5;34m261\u001b[0m)    │          \u001b[38;5;34m0\u001b[0m │ -                 │\n",
       "│ (\u001b[38;5;33mInputLayer\u001b[0m)        │                   │            │                   │\n",
       "├─────────────────────┼───────────────────┼────────────┼───────────────────┤\n",
       "│ input_layer_2       │ (\u001b[38;5;45mNone\u001b[0m, \u001b[38;5;34m512\u001b[0m)       │          \u001b[38;5;34m0\u001b[0m │ -                 │\n",
       "│ (\u001b[38;5;33mInputLayer\u001b[0m)        │                   │            │                   │\n",
       "├─────────────────────┼───────────────────┼────────────┼───────────────────┤\n",
       "│ input_layer_3       │ (\u001b[38;5;45mNone\u001b[0m, \u001b[38;5;34m512\u001b[0m)       │          \u001b[38;5;34m0\u001b[0m │ -                 │\n",
       "│ (\u001b[38;5;33mInputLayer\u001b[0m)        │                   │            │                   │\n",
       "├─────────────────────┼───────────────────┼────────────┼───────────────────┤\n",
       "│ LSTM_decoder (\u001b[38;5;33mLSTM\u001b[0m) │ [(\u001b[38;5;45mNone\u001b[0m, \u001b[38;5;34m1\u001b[0m, \u001b[38;5;34m512\u001b[0m),  │  \u001b[38;5;34m1,585,152\u001b[0m │ input_layer_1[\u001b[38;5;34m0\u001b[0m]… │\n",
       "│                     │ (\u001b[38;5;45mNone\u001b[0m, \u001b[38;5;34m512\u001b[0m),      │            │ input_layer_2[\u001b[38;5;34m0\u001b[0m]… │\n",
       "│                     │ (\u001b[38;5;45mNone\u001b[0m, \u001b[38;5;34m512\u001b[0m)]      │            │ input_layer_3[\u001b[38;5;34m0\u001b[0m]… │\n",
       "├─────────────────────┼───────────────────┼────────────┼───────────────────┤\n",
       "│ output_layer        │ (\u001b[38;5;45mNone\u001b[0m, \u001b[38;5;34m1\u001b[0m, \u001b[38;5;34m123\u001b[0m)    │     \u001b[38;5;34m63,099\u001b[0m │ LSTM_decoder[\u001b[38;5;34m0\u001b[0m][\u001b[38;5;34m…\u001b[0m │\n",
       "│ (\u001b[38;5;33mDense\u001b[0m)             │                   │            │                   │\n",
       "└─────────────────────┴───────────────────┴────────────┴───────────────────┘\n"
      ]
     },
     "metadata": {},
     "output_type": "display_data"
    },
    {
     "data": {
      "text/html": [
       "<pre style=\"white-space:pre;overflow-x:auto;line-height:normal;font-family:Menlo,'DejaVu Sans Mono',consolas,'Courier New',monospace\"><span style=\"font-weight: bold\"> Total params: </span><span style=\"color: #00af00; text-decoration-color: #00af00\">1,648,251</span> (6.29 MB)\n",
       "</pre>\n"
      ],
      "text/plain": [
       "\u001b[1m Total params: \u001b[0m\u001b[38;5;34m1,648,251\u001b[0m (6.29 MB)\n"
      ]
     },
     "metadata": {},
     "output_type": "display_data"
    },
    {
     "data": {
      "text/html": [
       "<pre style=\"white-space:pre;overflow-x:auto;line-height:normal;font-family:Menlo,'DejaVu Sans Mono',consolas,'Courier New',monospace\"><span style=\"font-weight: bold\"> Trainable params: </span><span style=\"color: #00af00; text-decoration-color: #00af00\">1,648,251</span> (6.29 MB)\n",
       "</pre>\n"
      ],
      "text/plain": [
       "\u001b[1m Trainable params: \u001b[0m\u001b[38;5;34m1,648,251\u001b[0m (6.29 MB)\n"
      ]
     },
     "metadata": {},
     "output_type": "display_data"
    },
    {
     "data": {
      "text/html": [
       "<pre style=\"white-space:pre;overflow-x:auto;line-height:normal;font-family:Menlo,'DejaVu Sans Mono',consolas,'Courier New',monospace\"><span style=\"font-weight: bold\"> Non-trainable params: </span><span style=\"color: #00af00; text-decoration-color: #00af00\">0</span> (0.00 B)\n",
       "</pre>\n"
      ],
      "text/plain": [
       "\u001b[1m Non-trainable params: \u001b[0m\u001b[38;5;34m0\u001b[0m (0.00 B)\n"
      ]
     },
     "metadata": {},
     "output_type": "display_data"
    }
   ],
   "source": [
    "# create the LSTM for generating\n",
    "\"\"\"\n",
    "We have 3 input tensor. The input of the LSTM and the hidden states \n",
    "\"\"\"\n",
    "decoder_input = tf.keras.Input(shape=(1, 5 + HP.latent_dim))\n",
    "initial_h_input = tf.keras.Input(shape=(HP.dec_hidden_size,))\n",
    "initial_c_input = tf.keras.Input(shape=(HP.dec_hidden_size,))\n",
    "# now the LSTM\n",
    "decoderLSTM = tf.keras.layers.LSTM(HP.dec_hidden_size, recurrent_dropout=HP.rec_dropout, \n",
    "                                    return_sequences=True, return_state=True, name = \"LSTM_decoder\")\n",
    "\n",
    "# creation of the LSTM\n",
    "decoder_output, h_new, c_new = decoderLSTM(decoder_input, initial_state = [initial_h_input, initial_c_input])\n",
    "# dense to output. THe dimention is, as explained in the paper equal to 3 + 6*M\n",
    "# 6 times M= number of mixture \n",
    "output_dimention = (3 + HP.M * 6)\n",
    "distribution_output = tf.keras.layers.Dense(output_dimention, name = \"output_layer\")(decoder_output)\n",
    "\n",
    "# Now we load the weights from the trained model\n",
    "generator = tf.keras.models.Model([decoder_input, initial_h_input, initial_c_input], outputs =[ distribution_output , h_new, c_new])\n",
    "generator.summary()\n",
    "generator.load_weights(\"model/\"+model_name+\".h5\", by_name = True)\n",
    "generator.build(tf.TensorShape([1, None])) "
   ]
  },
  {
   "cell_type": "code",
   "execution_count": 4,
   "metadata": {
    "execution": {
     "iopub.execute_input": "2024-07-21T16:14:07.208269Z",
     "iopub.status.busy": "2024-07-21T16:14:07.207901Z",
     "iopub.status.idle": "2024-07-21T16:14:07.293412Z",
     "shell.execute_reply": "2024-07-21T16:14:07.292849Z",
     "shell.execute_reply.started": "2024-07-21T16:14:07.208257Z"
    }
   },
   "outputs": [
    {
     "data": {
      "text/html": [
       "<pre style=\"white-space:pre;overflow-x:auto;line-height:normal;font-family:Menlo,'DejaVu Sans Mono',consolas,'Courier New',monospace\"><span style=\"font-weight: bold\">Model: \"functional_2\"</span>\n",
       "</pre>\n"
      ],
      "text/plain": [
       "\u001b[1mModel: \"functional_2\"\u001b[0m\n"
      ]
     },
     "metadata": {},
     "output_type": "display_data"
    },
    {
     "data": {
      "text/html": [
       "<pre style=\"white-space:pre;overflow-x:auto;line-height:normal;font-family:Menlo,'DejaVu Sans Mono',consolas,'Courier New',monospace\">┏━━━━━━━━━━━━━━━━━━━━━┳━━━━━━━━━━━━━━━━━━━┳━━━━━━━━━━━━┳━━━━━━━━━━━━━━━━━━━┓\n",
       "┃<span style=\"font-weight: bold\"> Layer (type)        </span>┃<span style=\"font-weight: bold\"> Output Shape      </span>┃<span style=\"font-weight: bold\">    Param # </span>┃<span style=\"font-weight: bold\"> Connected to      </span>┃\n",
       "┡━━━━━━━━━━━━━━━━━━━━━╇━━━━━━━━━━━━━━━━━━━╇━━━━━━━━━━━━╇━━━━━━━━━━━━━━━━━━━┩\n",
       "│ encoder_input       │ (<span style=\"color: #00d7ff; text-decoration-color: #00d7ff\">None</span>, <span style=\"color: #00af00; text-decoration-color: #00af00\">200</span>, <span style=\"color: #00af00; text-decoration-color: #00af00\">5</span>)    │          <span style=\"color: #00af00; text-decoration-color: #00af00\">0</span> │ -                 │\n",
       "│ (<span style=\"color: #0087ff; text-decoration-color: #0087ff\">InputLayer</span>)        │                   │            │                   │\n",
       "├─────────────────────┼───────────────────┼────────────┼───────────────────┤\n",
       "│ BI_LSTM_encoder     │ (<span style=\"color: #00d7ff; text-decoration-color: #00d7ff\">None</span>, <span style=\"color: #00af00; text-decoration-color: #00af00\">512</span>)       │    <span style=\"color: #00af00; text-decoration-color: #00af00\">536,576</span> │ encoder_input[<span style=\"color: #00af00; text-decoration-color: #00af00\">0</span>]… │\n",
       "│ (<span style=\"color: #0087ff; text-decoration-color: #0087ff\">Bidirectional</span>)     │                   │            │                   │\n",
       "├─────────────────────┼───────────────────┼────────────┼───────────────────┤\n",
       "│ mean_MLP (<span style=\"color: #0087ff; text-decoration-color: #0087ff\">Dense</span>)    │ (<span style=\"color: #00d7ff; text-decoration-color: #00d7ff\">None</span>, <span style=\"color: #00af00; text-decoration-color: #00af00\">256</span>)       │    <span style=\"color: #00af00; text-decoration-color: #00af00\">131,328</span> │ BI_LSTM_encoder[<span style=\"color: #00af00; text-decoration-color: #00af00\">…</span> │\n",
       "├─────────────────────┼───────────────────┼────────────┼───────────────────┤\n",
       "│ variance_MLP        │ (<span style=\"color: #00d7ff; text-decoration-color: #00d7ff\">None</span>, <span style=\"color: #00af00; text-decoration-color: #00af00\">256</span>)       │    <span style=\"color: #00af00; text-decoration-color: #00af00\">131,328</span> │ BI_LSTM_encoder[<span style=\"color: #00af00; text-decoration-color: #00af00\">…</span> │\n",
       "│ (<span style=\"color: #0087ff; text-decoration-color: #0087ff\">Dense</span>)             │                   │            │                   │\n",
       "└─────────────────────┴───────────────────┴────────────┴───────────────────┘\n",
       "</pre>\n"
      ],
      "text/plain": [
       "┏━━━━━━━━━━━━━━━━━━━━━┳━━━━━━━━━━━━━━━━━━━┳━━━━━━━━━━━━┳━━━━━━━━━━━━━━━━━━━┓\n",
       "┃\u001b[1m \u001b[0m\u001b[1mLayer (type)       \u001b[0m\u001b[1m \u001b[0m┃\u001b[1m \u001b[0m\u001b[1mOutput Shape     \u001b[0m\u001b[1m \u001b[0m┃\u001b[1m \u001b[0m\u001b[1m   Param #\u001b[0m\u001b[1m \u001b[0m┃\u001b[1m \u001b[0m\u001b[1mConnected to     \u001b[0m\u001b[1m \u001b[0m┃\n",
       "┡━━━━━━━━━━━━━━━━━━━━━╇━━━━━━━━━━━━━━━━━━━╇━━━━━━━━━━━━╇━━━━━━━━━━━━━━━━━━━┩\n",
       "│ encoder_input       │ (\u001b[38;5;45mNone\u001b[0m, \u001b[38;5;34m200\u001b[0m, \u001b[38;5;34m5\u001b[0m)    │          \u001b[38;5;34m0\u001b[0m │ -                 │\n",
       "│ (\u001b[38;5;33mInputLayer\u001b[0m)        │                   │            │                   │\n",
       "├─────────────────────┼───────────────────┼────────────┼───────────────────┤\n",
       "│ BI_LSTM_encoder     │ (\u001b[38;5;45mNone\u001b[0m, \u001b[38;5;34m512\u001b[0m)       │    \u001b[38;5;34m536,576\u001b[0m │ encoder_input[\u001b[38;5;34m0\u001b[0m]… │\n",
       "│ (\u001b[38;5;33mBidirectional\u001b[0m)     │                   │            │                   │\n",
       "├─────────────────────┼───────────────────┼────────────┼───────────────────┤\n",
       "│ mean_MLP (\u001b[38;5;33mDense\u001b[0m)    │ (\u001b[38;5;45mNone\u001b[0m, \u001b[38;5;34m256\u001b[0m)       │    \u001b[38;5;34m131,328\u001b[0m │ BI_LSTM_encoder[\u001b[38;5;34m…\u001b[0m │\n",
       "├─────────────────────┼───────────────────┼────────────┼───────────────────┤\n",
       "│ variance_MLP        │ (\u001b[38;5;45mNone\u001b[0m, \u001b[38;5;34m256\u001b[0m)       │    \u001b[38;5;34m131,328\u001b[0m │ BI_LSTM_encoder[\u001b[38;5;34m…\u001b[0m │\n",
       "│ (\u001b[38;5;33mDense\u001b[0m)             │                   │            │                   │\n",
       "└─────────────────────┴───────────────────┴────────────┴───────────────────┘\n"
      ]
     },
     "metadata": {},
     "output_type": "display_data"
    },
    {
     "data": {
      "text/html": [
       "<pre style=\"white-space:pre;overflow-x:auto;line-height:normal;font-family:Menlo,'DejaVu Sans Mono',consolas,'Courier New',monospace\"><span style=\"font-weight: bold\"> Total params: </span><span style=\"color: #00af00; text-decoration-color: #00af00\">799,232</span> (3.05 MB)\n",
       "</pre>\n"
      ],
      "text/plain": [
       "\u001b[1m Total params: \u001b[0m\u001b[38;5;34m799,232\u001b[0m (3.05 MB)\n"
      ]
     },
     "metadata": {},
     "output_type": "display_data"
    },
    {
     "data": {
      "text/html": [
       "<pre style=\"white-space:pre;overflow-x:auto;line-height:normal;font-family:Menlo,'DejaVu Sans Mono',consolas,'Courier New',monospace\"><span style=\"font-weight: bold\"> Trainable params: </span><span style=\"color: #00af00; text-decoration-color: #00af00\">799,232</span> (3.05 MB)\n",
       "</pre>\n"
      ],
      "text/plain": [
       "\u001b[1m Trainable params: \u001b[0m\u001b[38;5;34m799,232\u001b[0m (3.05 MB)\n"
      ]
     },
     "metadata": {},
     "output_type": "display_data"
    },
    {
     "data": {
      "text/html": [
       "<pre style=\"white-space:pre;overflow-x:auto;line-height:normal;font-family:Menlo,'DejaVu Sans Mono',consolas,'Courier New',monospace\"><span style=\"font-weight: bold\"> Non-trainable params: </span><span style=\"color: #00af00; text-decoration-color: #00af00\">0</span> (0.00 B)\n",
       "</pre>\n"
      ],
      "text/plain": [
       "\u001b[1m Non-trainable params: \u001b[0m\u001b[38;5;34m0\u001b[0m (0.00 B)\n"
      ]
     },
     "metadata": {},
     "output_type": "display_data"
    }
   ],
   "source": [
    "\"\"\"\n",
    "Create the encoder that embed the z\n",
    "\"\"\"\n",
    "encoder_input = tf.keras.layers.Input(shape = (HP.max_seq_length, HP.input_dimention), name = \"encoder_input\" )\n",
    "\n",
    "encoderLSTM = tf.keras.layers.Bidirectional(tf.keras.layers.LSTM(HP.enc_hidden_size, return_sequences=False,\n",
    "    recurrent_dropout=HP.rec_dropout, name = \"LSTM_encoder\"), merge_mode='concat', name = \"BI_LSTM_encoder\")(encoder_input)\n",
    "\n",
    "hidden_state_mean = tf.keras.layers.Dense(HP.latent_dim, activation='linear', name = \"mean_MLP\")(encoderLSTM)\n",
    "\n",
    "hidden_state_variance = tf.keras.layers.Dense(HP.latent_dim, activation='linear', name = \"variance_MLP\")(encoderLSTM)\n",
    "# Now we load the weights from the trained model\n",
    "encoder = tf.keras.models.Model(encoder_input,[hidden_state_mean, hidden_state_variance])\n",
    "encoder.summary()\n",
    "encoder.load_weights(\"model/\"+model_name+\".h5\", by_name = True)"
   ]
  },
  {
   "cell_type": "code",
   "execution_count": 5,
   "metadata": {
    "execution": {
     "iopub.execute_input": "2024-07-21T16:14:10.140714Z",
     "iopub.status.busy": "2024-07-21T16:14:10.140332Z",
     "iopub.status.idle": "2024-07-21T16:14:13.918521Z",
     "shell.execute_reply": "2024-07-21T16:14:13.917831Z",
     "shell.execute_reply.started": "2024-07-21T16:14:10.140700Z"
    }
   },
   "outputs": [],
   "source": [
    "HP.data_location = \"data/carrot.npz\"\n",
    "datas = data_Manager.Data()"
   ]
  },
  {
   "cell_type": "code",
   "execution_count": 8,
   "metadata": {
    "execution": {
     "iopub.execute_input": "2024-07-21T16:14:19.929722Z",
     "iopub.status.busy": "2024-07-21T16:14:19.929409Z",
     "iopub.status.idle": "2024-07-21T16:14:20.163871Z",
     "shell.execute_reply": "2024-07-21T16:14:20.163244Z",
     "shell.execute_reply.started": "2024-07-21T16:14:19.929710Z"
    }
   },
   "outputs": [
    {
     "name": "stdout",
     "output_type": "stream",
     "text": [
      "\u001b[1m1/1\u001b[0m \u001b[32m━━━━━━━━━━━━━━━━━━━━\u001b[0m\u001b[37m\u001b[0m \u001b[1m0s\u001b[0m 210ms/step\n"
     ]
    },
    {
     "data": {
      "image/svg+xml": [
       "<svg xmlns=\"http://www.w3.org/2000/svg\" xmlns:ev=\"http://www.w3.org/2001/xml-events\" xmlns:xlink=\"http://www.w3.org/1999/xlink\" baseProfile=\"full\" height=\"116.40657676964035\" version=\"1.1\" width=\"108.87593404318629\"><defs/><rect fill=\"white\" height=\"116.40657676964035\" width=\"108.87593404318629\" x=\"0\" y=\"0\"/><path d=\"M58.54559032693173,49.64573983203148 m-2.966616831633418,26.014947600477665 l-1.369207768446193,6.846038842230964 0.6846038842230965,8.215246610677157 l0.4564025894820643,-0.22820129474103215 m16.88689581083638,-39.7070252849396 l-17.115097105577412,40.619830463903725 m2.2820129474103217,-42.21723952709095 l10.040856968605416,-0.4564025894820643 5.476831073784772,0.6846038842230965 m-9.128051789641287,-0.9128051789641286 l2.0538116526692893,-1.597409063187225 0.9128051789641286,-4.564025894820643 m0.9128051789641286,0.0 l1.8256103579282572,0.0 m0.0,6.846038842230964 l0.0,0.22820129474103215 m1.1410064737051608,-6.3896362527489 l2.2820129474103217,-0.4564025894820643 -2.2820129474103217,5.705032368525804 l0.0,-1.597409063187225 m-2.510214242151354,-5.476831073784772 l-0.22820129474103215,-2.738415536892386 -3.423019421115482,-8.215246610677157 l-1.1410064737051608,-5.248629779043739 m8.899850494900253,17.343298400318446 l5.705032368525804,-5.933233663266836 5.933233663266836,-3.8794220105975468 m-13.235675094979866,10.269058263346446 l1.369207768446193,-3.8794220105975468 0.4564025894820643,-13.692077684461928 m-47.465869306134685,64.80916770645312 \" fill=\"none\" stroke=\"black\" stroke-width=\"1\"/></svg>"
      ],
      "text/plain": [
       "<IPython.core.display.SVG object>"
      ]
     },
     "metadata": {},
     "output_type": "display_data"
    }
   ],
   "source": [
    "import random\n",
    "x = datas.train[random.randint(0, len(datas.train))]\n",
    "x_2 = np.expand_dims(x, axis = 0)\n",
    "mean, variance = encoder.predict(x_2)\n",
    "latent = np.random.rand(1,HP.latent_dim)*np.exp(variance/2)+mean\n",
    "draw.draw_strokes(x, svg_filename=\"results/carrot_original_4.svg\")"
   ]
  },
  {
   "cell_type": "code",
   "execution_count": 9,
   "metadata": {
    "execution": {
     "iopub.execute_input": "2024-07-21T16:14:21.232387Z",
     "iopub.status.busy": "2024-07-21T16:14:21.232095Z",
     "iopub.status.idle": "2024-07-21T16:14:21.510541Z",
     "shell.execute_reply": "2024-07-21T16:14:21.509804Z",
     "shell.execute_reply.started": "2024-07-21T16:14:21.232373Z"
    }
   },
   "outputs": [
    {
     "name": "stderr",
     "output_type": "stream",
     "text": [
      "I0000 00:00:1721578461.272415  260525 service.cc:146] XLA service 0x7f7b18002900 initialized for platform CUDA (this does not guarantee that XLA will be used). Devices:\n",
      "I0000 00:00:1721578461.272460  260525 service.cc:154]   StreamExecutor device (0): NVIDIA GeForce RTX 4080 Laptop GPU, Compute Capability 8.9\n",
      "2024-07-22 00:14:21.280245: I tensorflow/compiler/mlir/tensorflow/utils/dump_mlir_util.cc:268] disabling MLIR crash reproducer, set env var `MLIR_CRASH_REPRODUCER_DIRECTORY` to enable.\n",
      "2024-07-22 00:14:21.293564: I external/local_xla/xla/stream_executor/cuda/cuda_dnn.cc:531] Loaded cuDNN version 8907\n",
      "2024-07-22 00:14:21.306058: W tensorflow/core/framework/op_kernel.cc:1840] OP_REQUIRES failed at xla_ops.cc:577 : NOT_FOUND: Couldn't find a suitable version of ptxas. The following locations were considered: ./cuda_sdk_lib/bin/ptxas, /home/captain/.nix-profile/bin/ptxas, /home/captain/.local/bin/ptxas, /home/captain/.nix-profile/bin/ptxas, /home/captain/.nix-profile/bin/ptxas, /home/captain/.local/bin/ptxas, /home/captain/.nvm/versions/node/v18.12.0/bin/ptxas, /home/captain/anaconda3/envs/sketch-rnn-2/bin/ptxas, /home/captain/anaconda3/condabin/ptxas, /home/captain/.nix-profile/bin/ptxas, /usr/local/sbin/ptxas, /usr/local/bin/ptxas, /usr/sbin/ptxas, /usr/bin/ptxas, /sbin/ptxas, /bin/ptxas, /usr/games/ptxas, /usr/local/games/ptxas, /usr/lib/wsl/lib/ptxas, /mnt/c/Python310/Scripts/ptxas, /mnt/c/Python310/ptxas, /mnt/c/Python312/Scripts/ptxas, /mnt/c/Python312/ptxas, /mnt/c/Program Files/NVIDIA GPU Computing Toolkit/CUDA/v12.2/bin/ptxas, /mnt/c/Program Files/NVIDIA GPU Computing Toolkit/CUDA/v12.2/libnvvp/ptxas, /mnt/c/Windows/system32/ptxas, /mnt/c/Windows/ptxas, /mnt/c/Windows/System32/Wbem/ptxas, /mnt/c/Windows/System32/WindowsPowerShell/v1.0/ptxas, /mnt/c/Windows/System32/OpenSSH/ptxas, /mnt/c/Program Files (x86)/NVIDIA Corporation/PhysX/Common/ptxas, /mnt/c/Program Files/NVIDIA Corporation/NVIDIA NvDLISR/ptxas, /mnt/c/ProgramData/chocolatey/bin/ptxas, /mnt/c/Program Files/Microsoft VS Code/bin/ptxas, /mnt/c/Program Files/dotnet/ptxas, /mnt/c/Program Files/NVIDIA Corporation/Nsight Compute 2023.2.0/ptxas, /mnt/c/Program Files/Docker/Docker/resources/bin/ptxas, /mnt/c/Program Files/Git LFS/ptxas, /mnt/c/Program Files/Go/bin/ptxas, /mnt/c/Users/Alex Huang/go/bin/ptxas, /mnt/c/Program Files/WireGuard/ptxas, /mnt/c/Users/Alex Huang/AppData/Roaming/pypoetry/venv/Scripts/ptxas, /mnt/c/Program Files/Git/cmd/ptxas, /mnt/c/Users/Alex Huang/Desktop/unity-merge/test/bin/ptxas, /mnt/c/Users/Alex Huang/AppData/Local/Programs/git-cola/bin/ptxas, /mnt/c/Users/Alex Huang/AppData/Local/Microsoft/WindowsApps/ptxas, /mnt/c/Program Files/Oracle/VirtualBox/ptxas, /mnt/c/users/alex huang/appdata/roaming/python/python311/scripts/ptxas, /mnt/c/users/alex huang/.local/bin/ptxas, /mnt/c/Users/Alex Huang/AppData/Local/GitHubDesktop/bin/ptxas, /mnt/c/Program Files (x86)/Nmap/ptxas, /snap/bin/ptxas, /usr/local/bin/ptxas, /opt/ptxas, /usr/local/bin/ptxas, /opt/ptxas, /usr/local/cuda-12.3/bin/ptxas, /usr/local/cuda/bin/ptxas, /home/captain/anaconda3/envs/sketch-rnn-2/lib/python3.10/site-packages/tensorflow/python/platform/../../../nvidia/cuda_nvcc/bin/ptxas, /home/captain/anaconda3/envs/sketch-rnn-2/lib/python3.10/site-packages/tensorflow/python/platform/../../../../nvidia/cuda_nvcc/bin/ptxas\n",
      "2024-07-22 00:14:21.306110: I tensorflow/core/framework/local_rendezvous.cc:404] Local rendezvous is aborting with status: NOT_FOUND: Couldn't find a suitable version of ptxas. The following locations were considered: ./cuda_sdk_lib/bin/ptxas, /home/captain/.nix-profile/bin/ptxas, /home/captain/.local/bin/ptxas, /home/captain/.nix-profile/bin/ptxas, /home/captain/.nix-profile/bin/ptxas, /home/captain/.local/bin/ptxas, /home/captain/.nvm/versions/node/v18.12.0/bin/ptxas, /home/captain/anaconda3/envs/sketch-rnn-2/bin/ptxas, /home/captain/anaconda3/condabin/ptxas, /home/captain/.nix-profile/bin/ptxas, /usr/local/sbin/ptxas, /usr/local/bin/ptxas, /usr/sbin/ptxas, /usr/bin/ptxas, /sbin/ptxas, /bin/ptxas, /usr/games/ptxas, /usr/local/games/ptxas, /usr/lib/wsl/lib/ptxas, /mnt/c/Python310/Scripts/ptxas, /mnt/c/Python310/ptxas, /mnt/c/Python312/Scripts/ptxas, /mnt/c/Python312/ptxas, /mnt/c/Program Files/NVIDIA GPU Computing Toolkit/CUDA/v12.2/bin/ptxas, /mnt/c/Program Files/NVIDIA GPU Computing Toolkit/CUDA/v12.2/libnvvp/ptxas, /mnt/c/Windows/system32/ptxas, /mnt/c/Windows/ptxas, /mnt/c/Windows/System32/Wbem/ptxas, /mnt/c/Windows/System32/WindowsPowerShell/v1.0/ptxas, /mnt/c/Windows/System32/OpenSSH/ptxas, /mnt/c/Program Files (x86)/NVIDIA Corporation/PhysX/Common/ptxas, /mnt/c/Program Files/NVIDIA Corporation/NVIDIA NvDLISR/ptxas, /mnt/c/ProgramData/chocolatey/bin/ptxas, /mnt/c/Program Files/Microsoft VS Code/bin/ptxas, /mnt/c/Program Files/dotnet/ptxas, /mnt/c/Program Files/NVIDIA Corporation/Nsight Compute 2023.2.0/ptxas, /mnt/c/Program Files/Docker/Docker/resources/bin/ptxas, /mnt/c/Program Files/Git LFS/ptxas, /mnt/c/Program Files/Go/bin/ptxas, /mnt/c/Users/Alex Huang/go/bin/ptxas, /mnt/c/Program Files/WireGuard/ptxas, /mnt/c/Users/Alex Huang/AppData/Roaming/pypoetry/venv/Scripts/ptxas, /mnt/c/Program Files/Git/cmd/ptxas, /mnt/c/Users/Alex Huang/Desktop/unity-merge/test/bin/ptxas, /mnt/c/Users/Alex Huang/AppData/Local/Programs/git-cola/bin/ptxas, /mnt/c/Users/Alex Huang/AppData/Local/Microsoft/WindowsApps/ptxas, /mnt/c/Program Files/Oracle/VirtualBox/ptxas, /mnt/c/users/alex huang/appdata/roaming/python/python311/scripts/ptxas, /mnt/c/users/alex huang/.local/bin/ptxas, /mnt/c/Users/Alex Huang/AppData/Local/GitHubDesktop/bin/ptxas, /mnt/c/Program Files (x86)/Nmap/ptxas, /snap/bin/ptxas, /usr/local/bin/ptxas, /opt/ptxas, /usr/local/bin/ptxas, /opt/ptxas, /usr/local/cuda-12.3/bin/ptxas, /usr/local/cuda/bin/ptxas, /home/captain/anaconda3/envs/sketch-rnn-2/lib/python3.10/site-packages/tensorflow/python/platform/../../../nvidia/cuda_nvcc/bin/ptxas, /home/captain/anaconda3/envs/sketch-rnn-2/lib/python3.10/site-packages/tensorflow/python/platform/../../../../nvidia/cuda_nvcc/bin/ptxas\n",
      "\t [[{{node StatefulPartitionedCall}}]]\n"
     ]
    },
    {
     "ename": "NotFoundError",
     "evalue": "Graph execution error:\n\nDetected at node StatefulPartitionedCall defined at (most recent call last):\n  File \"/home/captain/anaconda3/envs/sketch-rnn-2/lib/python3.10/runpy.py\", line 196, in _run_module_as_main\n\n  File \"/home/captain/anaconda3/envs/sketch-rnn-2/lib/python3.10/runpy.py\", line 86, in _run_code\n\n  File \"/home/captain/anaconda3/envs/sketch-rnn-2/lib/python3.10/site-packages/ipykernel_launcher.py\", line 18, in <module>\n\n  File \"/home/captain/anaconda3/envs/sketch-rnn-2/lib/python3.10/site-packages/traitlets/config/application.py\", line 1075, in launch_instance\n\n  File \"/home/captain/anaconda3/envs/sketch-rnn-2/lib/python3.10/site-packages/ipykernel/kernelapp.py\", line 739, in start\n\n  File \"/home/captain/anaconda3/envs/sketch-rnn-2/lib/python3.10/site-packages/tornado/platform/asyncio.py\", line 205, in start\n\n  File \"/home/captain/anaconda3/envs/sketch-rnn-2/lib/python3.10/asyncio/base_events.py\", line 603, in run_forever\n\n  File \"/home/captain/anaconda3/envs/sketch-rnn-2/lib/python3.10/asyncio/base_events.py\", line 1909, in _run_once\n\n  File \"/home/captain/anaconda3/envs/sketch-rnn-2/lib/python3.10/asyncio/events.py\", line 80, in _run\n\n  File \"/home/captain/anaconda3/envs/sketch-rnn-2/lib/python3.10/site-packages/ipykernel/kernelbase.py\", line 545, in dispatch_queue\n\n  File \"/home/captain/anaconda3/envs/sketch-rnn-2/lib/python3.10/site-packages/ipykernel/kernelbase.py\", line 534, in process_one\n\n  File \"/home/captain/anaconda3/envs/sketch-rnn-2/lib/python3.10/site-packages/ipykernel/kernelbase.py\", line 437, in dispatch_shell\n\n  File \"/home/captain/anaconda3/envs/sketch-rnn-2/lib/python3.10/site-packages/ipykernel/ipkernel.py\", line 362, in execute_request\n\n  File \"/home/captain/anaconda3/envs/sketch-rnn-2/lib/python3.10/site-packages/ipykernel/kernelbase.py\", line 778, in execute_request\n\n  File \"/home/captain/anaconda3/envs/sketch-rnn-2/lib/python3.10/site-packages/ipykernel/ipkernel.py\", line 449, in do_execute\n\n  File \"/home/captain/anaconda3/envs/sketch-rnn-2/lib/python3.10/site-packages/ipykernel/zmqshell.py\", line 549, in run_cell\n\n  File \"/home/captain/anaconda3/envs/sketch-rnn-2/lib/python3.10/site-packages/IPython/core/interactiveshell.py\", line 3075, in run_cell\n\n  File \"/home/captain/anaconda3/envs/sketch-rnn-2/lib/python3.10/site-packages/IPython/core/interactiveshell.py\", line 3130, in _run_cell\n\n  File \"/home/captain/anaconda3/envs/sketch-rnn-2/lib/python3.10/site-packages/IPython/core/async_helpers.py\", line 128, in _pseudo_sync_runner\n\n  File \"/home/captain/anaconda3/envs/sketch-rnn-2/lib/python3.10/site-packages/IPython/core/interactiveshell.py\", line 3334, in run_cell_async\n\n  File \"/home/captain/anaconda3/envs/sketch-rnn-2/lib/python3.10/site-packages/IPython/core/interactiveshell.py\", line 3517, in run_ast_nodes\n\n  File \"/home/captain/anaconda3/envs/sketch-rnn-2/lib/python3.10/site-packages/IPython/core/interactiveshell.py\", line 3577, in run_code\n\n  File \"/tmp/ipykernel_260277/3471917011.py\", line 1, in <module>\n\n  File \"/home/captain/wsl-work/Sketch-rnn/generate.py\", line 60, in generate_sketch\n\n  File \"/home/captain/anaconda3/envs/sketch-rnn-2/lib/python3.10/site-packages/keras/src/utils/traceback_utils.py\", line 117, in error_handler\n\n  File \"/home/captain/anaconda3/envs/sketch-rnn-2/lib/python3.10/site-packages/keras/src/backend/tensorflow/trainer.py\", line 508, in predict\n\n  File \"/home/captain/anaconda3/envs/sketch-rnn-2/lib/python3.10/site-packages/keras/src/backend/tensorflow/trainer.py\", line 208, in one_step_on_data_distributed\n\nCouldn't find a suitable version of ptxas. The following locations were considered: ./cuda_sdk_lib/bin/ptxas, /home/captain/.nix-profile/bin/ptxas, /home/captain/.local/bin/ptxas, /home/captain/.nix-profile/bin/ptxas, /home/captain/.nix-profile/bin/ptxas, /home/captain/.local/bin/ptxas, /home/captain/.nvm/versions/node/v18.12.0/bin/ptxas, /home/captain/anaconda3/envs/sketch-rnn-2/bin/ptxas, /home/captain/anaconda3/condabin/ptxas, /home/captain/.nix-profile/bin/ptxas, /usr/local/sbin/ptxas, /usr/local/bin/ptxas, /usr/sbin/ptxas, /usr/bin/ptxas, /sbin/ptxas, /bin/ptxas, /usr/games/ptxas, /usr/local/games/ptxas, /usr/lib/wsl/lib/ptxas, /mnt/c/Python310/Scripts/ptxas, /mnt/c/Python310/ptxas, /mnt/c/Python312/Scripts/ptxas, /mnt/c/Python312/ptxas, /mnt/c/Program Files/NVIDIA GPU Computing Toolkit/CUDA/v12.2/bin/ptxas, /mnt/c/Program Files/NVIDIA GPU Computing Toolkit/CUDA/v12.2/libnvvp/ptxas, /mnt/c/Windows/system32/ptxas, /mnt/c/Windows/ptxas, /mnt/c/Windows/System32/Wbem/ptxas, /mnt/c/Windows/System32/WindowsPowerShell/v1.0/ptxas, /mnt/c/Windows/System32/OpenSSH/ptxas, /mnt/c/Program Files (x86)/NVIDIA Corporation/PhysX/Common/ptxas, /mnt/c/Program Files/NVIDIA Corporation/NVIDIA NvDLISR/ptxas, /mnt/c/ProgramData/chocolatey/bin/ptxas, /mnt/c/Program Files/Microsoft VS Code/bin/ptxas, /mnt/c/Program Files/dotnet/ptxas, /mnt/c/Program Files/NVIDIA Corporation/Nsight Compute 2023.2.0/ptxas, /mnt/c/Program Files/Docker/Docker/resources/bin/ptxas, /mnt/c/Program Files/Git LFS/ptxas, /mnt/c/Program Files/Go/bin/ptxas, /mnt/c/Users/Alex Huang/go/bin/ptxas, /mnt/c/Program Files/WireGuard/ptxas, /mnt/c/Users/Alex Huang/AppData/Roaming/pypoetry/venv/Scripts/ptxas, /mnt/c/Program Files/Git/cmd/ptxas, /mnt/c/Users/Alex Huang/Desktop/unity-merge/test/bin/ptxas, /mnt/c/Users/Alex Huang/AppData/Local/Programs/git-cola/bin/ptxas, /mnt/c/Users/Alex Huang/AppData/Local/Microsoft/WindowsApps/ptxas, /mnt/c/Program Files/Oracle/VirtualBox/ptxas, /mnt/c/users/alex huang/appdata/roaming/python/python311/scripts/ptxas, /mnt/c/users/alex huang/.local/bin/ptxas, /mnt/c/Users/Alex Huang/AppData/Local/GitHubDesktop/bin/ptxas, /mnt/c/Program Files (x86)/Nmap/ptxas, /snap/bin/ptxas, /usr/local/bin/ptxas, /opt/ptxas, /usr/local/bin/ptxas, /opt/ptxas, /usr/local/cuda-12.3/bin/ptxas, /usr/local/cuda/bin/ptxas, /home/captain/anaconda3/envs/sketch-rnn-2/lib/python3.10/site-packages/tensorflow/python/platform/../../../nvidia/cuda_nvcc/bin/ptxas, /home/captain/anaconda3/envs/sketch-rnn-2/lib/python3.10/site-packages/tensorflow/python/platform/../../../../nvidia/cuda_nvcc/bin/ptxas\n\t [[{{node StatefulPartitionedCall}}]] [Op:__inference_one_step_on_data_distributed_835]",
     "output_type": "error",
     "traceback": [
      "\u001b[0;31m---------------------------------------------------------------------------\u001b[0m",
      "\u001b[0;31mNotFoundError\u001b[0m                             Traceback (most recent call last)",
      "Cell \u001b[0;32mIn[9], line 1\u001b[0m\n\u001b[0;32m----> 1\u001b[0m seq \u001b[38;5;241m=\u001b[39m  \u001b[43mg\u001b[49m\u001b[38;5;241;43m.\u001b[39;49m\u001b[43mgenerate_sketch\u001b[49m\u001b[43m(\u001b[49m\u001b[43mgenerator\u001b[49m\u001b[43m,\u001b[49m\u001b[43m \u001b[49m\u001b[43mlatent_to_hidden_state_model\u001b[49m\u001b[43m,\u001b[49m\u001b[43m \u001b[49m\u001b[43mtemperature\u001b[49m\u001b[38;5;241;43m=\u001b[39;49m\u001b[38;5;241;43m0.2\u001b[39;49m\u001b[43m)\u001b[49m\n\u001b[1;32m      2\u001b[0m draw\u001b[38;5;241m.\u001b[39mdraw_strokes(seq, svg_filename\u001b[38;5;241m=\u001b[39m\u001b[38;5;124m\"\u001b[39m\u001b[38;5;124mresults/carrot_from_IID_4.svg\u001b[39m\u001b[38;5;124m\"\u001b[39m)\n",
      "File \u001b[0;32m~/wsl-work/Sketch-rnn/generate.py:60\u001b[0m, in \u001b[0;36mgenerate_sketch\u001b[0;34m(decoder, initial_state_net, latent_variable, temperature)\u001b[0m\n\u001b[1;32m     58\u001b[0m \u001b[38;5;28;01mif\u001b[39;00m latent_variable \u001b[38;5;129;01mis\u001b[39;00m \u001b[38;5;28;01mNone\u001b[39;00m:\n\u001b[1;32m     59\u001b[0m     latent_variable \u001b[38;5;241m=\u001b[39m np\u001b[38;5;241m.\u001b[39mrandom\u001b[38;5;241m.\u001b[39mrand(\u001b[38;5;241m1\u001b[39m,HP\u001b[38;5;241m.\u001b[39mlatent_dim)\n\u001b[0;32m---> 60\u001b[0m initial_state \u001b[38;5;241m=\u001b[39m \u001b[43minitial_state_net\u001b[49m\u001b[38;5;241;43m.\u001b[39;49m\u001b[43mpredict\u001b[49m\u001b[43m(\u001b[49m\u001b[43mlatent_variable\u001b[49m\u001b[43m)\u001b[49m\n\u001b[1;32m     61\u001b[0m h_0, c_0 \u001b[38;5;241m=\u001b[39m tf\u001b[38;5;241m.\u001b[39msplit(initial_state, num_or_size_splits\u001b[38;5;241m=\u001b[39m\u001b[38;5;241m2\u001b[39m, axis \u001b[38;5;241m=\u001b[39m \u001b[38;5;241m1\u001b[39m)\n\u001b[1;32m     62\u001b[0m points \u001b[38;5;241m=\u001b[39m []\n",
      "File \u001b[0;32m~/anaconda3/envs/sketch-rnn-2/lib/python3.10/site-packages/keras/src/utils/traceback_utils.py:122\u001b[0m, in \u001b[0;36mfilter_traceback.<locals>.error_handler\u001b[0;34m(*args, **kwargs)\u001b[0m\n\u001b[1;32m    119\u001b[0m     filtered_tb \u001b[38;5;241m=\u001b[39m _process_traceback_frames(e\u001b[38;5;241m.\u001b[39m__traceback__)\n\u001b[1;32m    120\u001b[0m     \u001b[38;5;66;03m# To get the full stack trace, call:\u001b[39;00m\n\u001b[1;32m    121\u001b[0m     \u001b[38;5;66;03m# `keras.config.disable_traceback_filtering()`\u001b[39;00m\n\u001b[0;32m--> 122\u001b[0m     \u001b[38;5;28;01mraise\u001b[39;00m e\u001b[38;5;241m.\u001b[39mwith_traceback(filtered_tb) \u001b[38;5;28;01mfrom\u001b[39;00m \u001b[38;5;28;01mNone\u001b[39;00m\n\u001b[1;32m    123\u001b[0m \u001b[38;5;28;01mfinally\u001b[39;00m:\n\u001b[1;32m    124\u001b[0m     \u001b[38;5;28;01mdel\u001b[39;00m filtered_tb\n",
      "File \u001b[0;32m~/anaconda3/envs/sketch-rnn-2/lib/python3.10/site-packages/tensorflow/python/eager/execute.py:53\u001b[0m, in \u001b[0;36mquick_execute\u001b[0;34m(op_name, num_outputs, inputs, attrs, ctx, name)\u001b[0m\n\u001b[1;32m     51\u001b[0m \u001b[38;5;28;01mtry\u001b[39;00m:\n\u001b[1;32m     52\u001b[0m   ctx\u001b[38;5;241m.\u001b[39mensure_initialized()\n\u001b[0;32m---> 53\u001b[0m   tensors \u001b[38;5;241m=\u001b[39m pywrap_tfe\u001b[38;5;241m.\u001b[39mTFE_Py_Execute(ctx\u001b[38;5;241m.\u001b[39m_handle, device_name, op_name,\n\u001b[1;32m     54\u001b[0m                                       inputs, attrs, num_outputs)\n\u001b[1;32m     55\u001b[0m \u001b[38;5;28;01mexcept\u001b[39;00m core\u001b[38;5;241m.\u001b[39m_NotOkStatusException \u001b[38;5;28;01mas\u001b[39;00m e:\n\u001b[1;32m     56\u001b[0m   \u001b[38;5;28;01mif\u001b[39;00m name \u001b[38;5;129;01mis\u001b[39;00m \u001b[38;5;129;01mnot\u001b[39;00m \u001b[38;5;28;01mNone\u001b[39;00m:\n",
      "\u001b[0;31mNotFoundError\u001b[0m: Graph execution error:\n\nDetected at node StatefulPartitionedCall defined at (most recent call last):\n  File \"/home/captain/anaconda3/envs/sketch-rnn-2/lib/python3.10/runpy.py\", line 196, in _run_module_as_main\n\n  File \"/home/captain/anaconda3/envs/sketch-rnn-2/lib/python3.10/runpy.py\", line 86, in _run_code\n\n  File \"/home/captain/anaconda3/envs/sketch-rnn-2/lib/python3.10/site-packages/ipykernel_launcher.py\", line 18, in <module>\n\n  File \"/home/captain/anaconda3/envs/sketch-rnn-2/lib/python3.10/site-packages/traitlets/config/application.py\", line 1075, in launch_instance\n\n  File \"/home/captain/anaconda3/envs/sketch-rnn-2/lib/python3.10/site-packages/ipykernel/kernelapp.py\", line 739, in start\n\n  File \"/home/captain/anaconda3/envs/sketch-rnn-2/lib/python3.10/site-packages/tornado/platform/asyncio.py\", line 205, in start\n\n  File \"/home/captain/anaconda3/envs/sketch-rnn-2/lib/python3.10/asyncio/base_events.py\", line 603, in run_forever\n\n  File \"/home/captain/anaconda3/envs/sketch-rnn-2/lib/python3.10/asyncio/base_events.py\", line 1909, in _run_once\n\n  File \"/home/captain/anaconda3/envs/sketch-rnn-2/lib/python3.10/asyncio/events.py\", line 80, in _run\n\n  File \"/home/captain/anaconda3/envs/sketch-rnn-2/lib/python3.10/site-packages/ipykernel/kernelbase.py\", line 545, in dispatch_queue\n\n  File \"/home/captain/anaconda3/envs/sketch-rnn-2/lib/python3.10/site-packages/ipykernel/kernelbase.py\", line 534, in process_one\n\n  File \"/home/captain/anaconda3/envs/sketch-rnn-2/lib/python3.10/site-packages/ipykernel/kernelbase.py\", line 437, in dispatch_shell\n\n  File \"/home/captain/anaconda3/envs/sketch-rnn-2/lib/python3.10/site-packages/ipykernel/ipkernel.py\", line 362, in execute_request\n\n  File \"/home/captain/anaconda3/envs/sketch-rnn-2/lib/python3.10/site-packages/ipykernel/kernelbase.py\", line 778, in execute_request\n\n  File \"/home/captain/anaconda3/envs/sketch-rnn-2/lib/python3.10/site-packages/ipykernel/ipkernel.py\", line 449, in do_execute\n\n  File \"/home/captain/anaconda3/envs/sketch-rnn-2/lib/python3.10/site-packages/ipykernel/zmqshell.py\", line 549, in run_cell\n\n  File \"/home/captain/anaconda3/envs/sketch-rnn-2/lib/python3.10/site-packages/IPython/core/interactiveshell.py\", line 3075, in run_cell\n\n  File \"/home/captain/anaconda3/envs/sketch-rnn-2/lib/python3.10/site-packages/IPython/core/interactiveshell.py\", line 3130, in _run_cell\n\n  File \"/home/captain/anaconda3/envs/sketch-rnn-2/lib/python3.10/site-packages/IPython/core/async_helpers.py\", line 128, in _pseudo_sync_runner\n\n  File \"/home/captain/anaconda3/envs/sketch-rnn-2/lib/python3.10/site-packages/IPython/core/interactiveshell.py\", line 3334, in run_cell_async\n\n  File \"/home/captain/anaconda3/envs/sketch-rnn-2/lib/python3.10/site-packages/IPython/core/interactiveshell.py\", line 3517, in run_ast_nodes\n\n  File \"/home/captain/anaconda3/envs/sketch-rnn-2/lib/python3.10/site-packages/IPython/core/interactiveshell.py\", line 3577, in run_code\n\n  File \"/tmp/ipykernel_260277/3471917011.py\", line 1, in <module>\n\n  File \"/home/captain/wsl-work/Sketch-rnn/generate.py\", line 60, in generate_sketch\n\n  File \"/home/captain/anaconda3/envs/sketch-rnn-2/lib/python3.10/site-packages/keras/src/utils/traceback_utils.py\", line 117, in error_handler\n\n  File \"/home/captain/anaconda3/envs/sketch-rnn-2/lib/python3.10/site-packages/keras/src/backend/tensorflow/trainer.py\", line 508, in predict\n\n  File \"/home/captain/anaconda3/envs/sketch-rnn-2/lib/python3.10/site-packages/keras/src/backend/tensorflow/trainer.py\", line 208, in one_step_on_data_distributed\n\nCouldn't find a suitable version of ptxas. The following locations were considered: ./cuda_sdk_lib/bin/ptxas, /home/captain/.nix-profile/bin/ptxas, /home/captain/.local/bin/ptxas, /home/captain/.nix-profile/bin/ptxas, /home/captain/.nix-profile/bin/ptxas, /home/captain/.local/bin/ptxas, /home/captain/.nvm/versions/node/v18.12.0/bin/ptxas, /home/captain/anaconda3/envs/sketch-rnn-2/bin/ptxas, /home/captain/anaconda3/condabin/ptxas, /home/captain/.nix-profile/bin/ptxas, /usr/local/sbin/ptxas, /usr/local/bin/ptxas, /usr/sbin/ptxas, /usr/bin/ptxas, /sbin/ptxas, /bin/ptxas, /usr/games/ptxas, /usr/local/games/ptxas, /usr/lib/wsl/lib/ptxas, /mnt/c/Python310/Scripts/ptxas, /mnt/c/Python310/ptxas, /mnt/c/Python312/Scripts/ptxas, /mnt/c/Python312/ptxas, /mnt/c/Program Files/NVIDIA GPU Computing Toolkit/CUDA/v12.2/bin/ptxas, /mnt/c/Program Files/NVIDIA GPU Computing Toolkit/CUDA/v12.2/libnvvp/ptxas, /mnt/c/Windows/system32/ptxas, /mnt/c/Windows/ptxas, /mnt/c/Windows/System32/Wbem/ptxas, /mnt/c/Windows/System32/WindowsPowerShell/v1.0/ptxas, /mnt/c/Windows/System32/OpenSSH/ptxas, /mnt/c/Program Files (x86)/NVIDIA Corporation/PhysX/Common/ptxas, /mnt/c/Program Files/NVIDIA Corporation/NVIDIA NvDLISR/ptxas, /mnt/c/ProgramData/chocolatey/bin/ptxas, /mnt/c/Program Files/Microsoft VS Code/bin/ptxas, /mnt/c/Program Files/dotnet/ptxas, /mnt/c/Program Files/NVIDIA Corporation/Nsight Compute 2023.2.0/ptxas, /mnt/c/Program Files/Docker/Docker/resources/bin/ptxas, /mnt/c/Program Files/Git LFS/ptxas, /mnt/c/Program Files/Go/bin/ptxas, /mnt/c/Users/Alex Huang/go/bin/ptxas, /mnt/c/Program Files/WireGuard/ptxas, /mnt/c/Users/Alex Huang/AppData/Roaming/pypoetry/venv/Scripts/ptxas, /mnt/c/Program Files/Git/cmd/ptxas, /mnt/c/Users/Alex Huang/Desktop/unity-merge/test/bin/ptxas, /mnt/c/Users/Alex Huang/AppData/Local/Programs/git-cola/bin/ptxas, /mnt/c/Users/Alex Huang/AppData/Local/Microsoft/WindowsApps/ptxas, /mnt/c/Program Files/Oracle/VirtualBox/ptxas, /mnt/c/users/alex huang/appdata/roaming/python/python311/scripts/ptxas, /mnt/c/users/alex huang/.local/bin/ptxas, /mnt/c/Users/Alex Huang/AppData/Local/GitHubDesktop/bin/ptxas, /mnt/c/Program Files (x86)/Nmap/ptxas, /snap/bin/ptxas, /usr/local/bin/ptxas, /opt/ptxas, /usr/local/bin/ptxas, /opt/ptxas, /usr/local/cuda-12.3/bin/ptxas, /usr/local/cuda/bin/ptxas, /home/captain/anaconda3/envs/sketch-rnn-2/lib/python3.10/site-packages/tensorflow/python/platform/../../../nvidia/cuda_nvcc/bin/ptxas, /home/captain/anaconda3/envs/sketch-rnn-2/lib/python3.10/site-packages/tensorflow/python/platform/../../../../nvidia/cuda_nvcc/bin/ptxas\n\t [[{{node StatefulPartitionedCall}}]] [Op:__inference_one_step_on_data_distributed_835]"
     ]
    }
   ],
   "source": [
    "seq =  g.generate_sketch(generator, latent_to_hidden_state_model, temperature=0.2)\n",
    "draw.draw_strokes(seq, svg_filename=\"results/carrot_from_IID_4.svg\")"
   ]
  }
 ],
 "metadata": {
  "kernelspec": {
   "display_name": "Python 3 (ipykernel)",
   "language": "python",
   "name": "python3"
  },
  "language_info": {
   "codemirror_mode": {
    "name": "ipython",
    "version": 3
   },
   "file_extension": ".py",
   "mimetype": "text/x-python",
   "name": "python",
   "nbconvert_exporter": "python",
   "pygments_lexer": "ipython3",
   "version": "3.10.14"
  }
 },
 "nbformat": 4,
 "nbformat_minor": 4
}
