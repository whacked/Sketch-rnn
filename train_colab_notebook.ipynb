{
 "cells": [
  {
   "cell_type": "markdown",
   "metadata": {
    "colab_type": "text",
    "id": "view-in-github"
   },
   "source": [
    "<a href=\"https://colab.research.google.com/github/MarioBonse/Sketch-rnn/blob/master/train_colab_notebook.ipynb\" target=\"_parent\"><img src=\"https://colab.research.google.com/assets/colab-badge.svg\" alt=\"Open In Colab\"/></a>"
   ]
  },
  {
   "cell_type": "code",
   "execution_count": null,
   "metadata": {
    "colab": {
     "base_uri": "https://localhost:8080/",
     "height": 70
    },
    "colab_type": "code",
    "id": "7qNPZdlzbl1l",
    "outputId": "11e2622c-fa28-46a9-9002-a3e2a9047910"
   },
   "outputs": [
    {
     "name": "stdout",
     "output_type": "stream",
     "text": [
      "Requirement already up-to-date: tensorboardcolab in /usr/local/lib/python3.6/dist-packages (0.0.22)\n",
      "Requirement already satisfied: svgwrite in /usr/local/lib/python3.6/dist-packages (1.3.1)\n",
      "Requirement already satisfied: pyparsing>=2.0.1 in /usr/local/lib/python3.6/dist-packages (from svgwrite) (2.4.2)\n"
     ]
    }
   ],
   "source": [
    "!pip3 install --upgrade --quiet tensorflow-gpu\n",
    "!pip install --upgrade --quiet PyDrive\n",
    "!pip install -U tensorboardcolab\n",
    "!pip install svgwrite"
   ]
  },
  {
   "cell_type": "code",
   "execution_count": 1,
   "metadata": {
    "colab": {
     "base_uri": "https://localhost:8080/",
     "height": 134
    },
    "colab_type": "code",
    "id": "jYt4wH2giQCr",
    "outputId": "55e2a887-8079-4dd6-ee49-b49539f301b8"
   },
   "outputs": [
    {
     "name": "stdout",
     "output_type": "stream",
     "text": [
      "Cloning into 'Sketch-rnn'...\n",
      "remote: Enumerating objects: 10, done.\u001b[K\n",
      "remote: Counting objects:  10% (1/10)\u001b[K\r",
      "remote: Counting objects:  20% (2/10)\u001b[K\r",
      "remote: Counting objects:  30% (3/10)\u001b[K\r",
      "remote: Counting objects:  40% (4/10)\u001b[K\r",
      "remote: Counting objects:  50% (5/10)\u001b[K\r",
      "remote: Counting objects:  60% (6/10)\u001b[K\r",
      "remote: Counting objects:  70% (7/10)\u001b[K\r",
      "remote: Counting objects:  80% (8/10)\u001b[K\r",
      "remote: Counting objects:  90% (9/10)\u001b[K\r",
      "remote: Counting objects: 100% (10/10)\u001b[K\r",
      "remote: Counting objects: 100% (10/10), done.\u001b[K\n",
      "remote: Compressing objects: 100% (10/10), done.\u001b[K\n",
      "remote: Total 189 (delta 2), reused 6 (delta 0), pack-reused 179\n",
      "Receiving objects: 100% (189/189), 344.17 MiB | 32.69 MiB/s, done.\n",
      "Resolving deltas: 100% (74/74), done.\n"
     ]
    }
   ],
   "source": [
    "!git clone https://github.com/MarioBonse/Sketch-rnn.git\n",
    "import os\n",
    "os.chdir(\"Sketch-rnn\")"
   ]
  },
  {
   "cell_type": "code",
   "execution_count": 3,
   "metadata": {
    "colab": {
     "base_uri": "https://localhost:8080/",
     "height": 269
    },
    "colab_type": "code",
    "execution": {
     "iopub.execute_input": "2024-07-21T17:05:14.207172Z",
     "iopub.status.busy": "2024-07-21T17:05:14.206942Z",
     "iopub.status.idle": "2024-07-21T17:05:17.800409Z",
     "shell.execute_reply": "2024-07-21T17:05:17.799989Z",
     "shell.execute_reply.started": "2024-07-21T17:05:14.207161Z"
    },
    "id": "cfByb0ohor7g",
    "outputId": "8eed2eb4-edf6-4976-d33c-007891e2eafd"
   },
   "outputs": [],
   "source": [
    "import data_Manager \n",
    "from HyperParameters import HP\n",
    "import keras\n",
    "import matplotlib.pyplot as plt\n",
    "from train import *\n",
    "\n",
    "import tensorflow as tf\n",
    "import draw\n",
    "\n",
    "#tbc=TensorBoardColab()\n",
    "HP.data_folder = \"data/\"\n",
    "HP.data_name = \"carrot.npz\"\n",
    "HP.data_location = \"data/carrot.npz\"\n",
    "datas = data_Manager.Data()\n",
    "\n",
    "# create the callback for data augmentaion during training\n",
    "train_generator = data_Manager.DataGenerator(datas.train)\n",
    "validation_encoder = datas.valid\n",
    "validation_decoder = data_Manager.create_decoder_input(validation_encoder)\n",
    "vaidation = [validation_encoder, validation_decoder]\n",
    "HP.epochs = 20\n",
    "\n",
    "\n"
   ]
  },
  {
   "cell_type": "code",
   "execution_count": 4,
   "metadata": {
    "colab": {
     "base_uri": "https://localhost:8080/",
     "height": 178
    },
    "colab_type": "code",
    "execution": {
     "iopub.execute_input": "2024-07-21T17:05:22.858189Z",
     "iopub.status.busy": "2024-07-21T17:05:22.857920Z",
     "iopub.status.idle": "2024-07-21T17:05:22.863254Z",
     "shell.execute_reply": "2024-07-21T17:05:22.862564Z",
     "shell.execute_reply.started": "2024-07-21T17:05:22.858176Z"
    },
    "id": "JMO1HvnekXNi",
    "outputId": "fc645849-8ee9-43f5-bbd2-292e61434371",
    "scrolled": true
   },
   "outputs": [
    {
     "data": {
      "image/svg+xml": [
       "<svg xmlns=\"http://www.w3.org/2000/svg\" xmlns:ev=\"http://www.w3.org/2001/xml-events\" xmlns:xlink=\"http://www.w3.org/1999/xlink\" baseProfile=\"full\" height=\"157.71101111776719\" version=\"1.1\" width=\"89.70702528493959\"><defs/><rect fill=\"white\" height=\"157.71101111776719\" width=\"89.70702528493959\" x=\"0\" y=\"0\"/><path d=\"M37.32286991601573,127.69058263346449 m-1.1410064737051608,0.0 l-2.0538116526692893,-2.2820129474103217 -7.530642726454062,-14.148480273943994 l-1.597409063187225,-5.020428484302708 0.0,-31.71997996900347 l2.2820129474103217,-7.987045315936125 2.738415536892386,-2.966616831633418 l11.410064737051608,-8.215246610677157 5.020428484302708,-1.369207768446193 l9.812655673864382,0.22820129474103215 2.2820129474103217,2.2820129474103217 l1.1410064737051608,3.19481812637445 0.0,14.148480273943994 l-6.3896362527489,22.59192817936218 -1.369207768446193,2.510214242151354 l-0.9128051789641286,14.148480273943994 -0.9128051789641286,3.8794220105975468 l-6.1614349580078684,13.692077684461928 -2.2820129474103217,2.0538116526692893 l0.0,-2.738415536892386 m-15.061285452908123,-47.009466716652625 l3.6512207158565144,-1.597409063187225 10.269058263346446,-1.1410064737051608 l7.987045315936125,-2.2820129474103217 7.074240136971997,-0.6846038842230965 m-25.78674630573663,24.41753853729044 l1.8256103579282572,0.6846038842230965 9.356253084382319,0.0 l9.58445437912335,-2.738415536892386 m-16.20229192661328,-40.163427874421664 l-7.530642726454062,-5.705032368525804 -0.9128051789641286,-1.597409063187225 l-0.4564025894820643,-17.799700989800506 1.369207768446193,-0.6846038842230965 l1.597409063187225,0.9128051789641286 2.0538116526692893,2.0538116526692893 l2.738415536892386,1.369207768446193 2.966616831633418,3.8794220105975468 l1.369207768446193,0.4564025894820643 1.597409063187225,-3.6512207158565144 l2.2820129474103217,-13.692077684461928 1.369207768446193,0.0 l1.597409063187225,14.604882863426058 0.22820129474103215,1.1410064737051608 l1.1410064737051608,0.22820129474103215 4.107623305338579,-8.215246610677157 l2.738415536892386,-2.510214242151354 5.476831073784772,-2.0538116526692893 l6.617837547489933,-0.6846038842230965 -0.6846038842230965,4.564025894820643 l-2.966616831633418,6.617837547489933 -9.58445437912335,14.604882863426058 \" fill=\"none\" stroke=\"black\" stroke-width=\"1\"/></svg>"
      ],
      "text/plain": [
       "<IPython.core.display.SVG object>"
      ]
     },
     "metadata": {},
     "output_type": "display_data"
    }
   ],
   "source": [
    "draw.draw_strokes(datas.train[0], svg_filename=\"carrot.svg\")"
   ]
  },
  {
   "cell_type": "code",
   "execution_count": 5,
   "metadata": {
    "colab": {
     "base_uri": "https://localhost:8080/",
     "height": 1000
    },
    "colab_type": "code",
    "execution": {
     "iopub.execute_input": "2024-07-21T17:05:22.864250Z",
     "iopub.status.busy": "2024-07-21T17:05:22.864143Z",
     "iopub.status.idle": "2024-07-21T17:05:23.421200Z",
     "shell.execute_reply": "2024-07-21T17:05:23.420748Z",
     "shell.execute_reply.started": "2024-07-21T17:05:22.864241Z"
    },
    "id": "lvfvYwFXdRTZ",
    "outputId": "f5b133c6-80f3-45dd-ca0a-5097b74c6454"
   },
   "outputs": [
    {
     "name": "stderr",
     "output_type": "stream",
     "text": [
      "WARNING: All log messages before absl::InitializeLog() is called are written to STDERR\n",
      "I0000 00:00:1721581522.963176  264367 cuda_executor.cc:1001] could not open file to read NUMA node: /sys/bus/pci/devices/0000:01:00.0/numa_node\n",
      "Your kernel may have been built without NUMA support.\n",
      "I0000 00:00:1721581522.987606  264367 cuda_executor.cc:1001] could not open file to read NUMA node: /sys/bus/pci/devices/0000:01:00.0/numa_node\n",
      "Your kernel may have been built without NUMA support.\n",
      "I0000 00:00:1721581522.987831  264367 cuda_executor.cc:1001] could not open file to read NUMA node: /sys/bus/pci/devices/0000:01:00.0/numa_node\n",
      "Your kernel may have been built without NUMA support.\n",
      "I0000 00:00:1721581522.992009  264367 cuda_executor.cc:1001] could not open file to read NUMA node: /sys/bus/pci/devices/0000:01:00.0/numa_node\n",
      "Your kernel may have been built without NUMA support.\n",
      "I0000 00:00:1721581522.992093  264367 cuda_executor.cc:1001] could not open file to read NUMA node: /sys/bus/pci/devices/0000:01:00.0/numa_node\n",
      "Your kernel may have been built without NUMA support.\n",
      "I0000 00:00:1721581522.992107  264367 cuda_executor.cc:1001] could not open file to read NUMA node: /sys/bus/pci/devices/0000:01:00.0/numa_node\n",
      "Your kernel may have been built without NUMA support.\n",
      "I0000 00:00:1721581523.084100  264367 cuda_executor.cc:1001] could not open file to read NUMA node: /sys/bus/pci/devices/0000:01:00.0/numa_node\n",
      "Your kernel may have been built without NUMA support.\n",
      "I0000 00:00:1721581523.084147  264367 cuda_executor.cc:1001] could not open file to read NUMA node: /sys/bus/pci/devices/0000:01:00.0/numa_node\n",
      "Your kernel may have been built without NUMA support.\n",
      "2024-07-22 01:05:23.084155: I tensorflow/core/common_runtime/gpu/gpu_device.cc:2112] Could not identify NUMA node of platform GPU id 0, defaulting to 0.  Your kernel may not have been built with NUMA support.\n",
      "I0000 00:00:1721581523.084192  264367 cuda_executor.cc:1001] could not open file to read NUMA node: /sys/bus/pci/devices/0000:01:00.0/numa_node\n",
      "Your kernel may have been built without NUMA support.\n",
      "2024-07-22 01:05:23.084208: I tensorflow/core/common_runtime/gpu/gpu_device.cc:2021] Created device /job:localhost/replica:0/task:0/device:GPU:0 with 9525 MB memory:  -> device: 0, name: NVIDIA GeForce RTX 4080 Laptop GPU, pci bus id: 0000:01:00.0, compute capability: 8.9\n",
      "WARNING: All log messages before absl::InitializeLog() is called are written to STDERR\n",
      "W0000 00:00:1721581523.371934  264367 gpu_kernel_to_blob_pass.cc:190] Failed to compile generated PTX with ptxas. Falling back to compilation by driver.\n"
     ]
    },
    {
     "data": {
      "text/html": [
       "<pre style=\"white-space:pre;overflow-x:auto;line-height:normal;font-family:Menlo,'DejaVu Sans Mono',consolas,'Courier New',monospace\"><span style=\"font-weight: bold\">Model: \"encoder\"</span>\n",
       "</pre>\n"
      ],
      "text/plain": [
       "\u001b[1mModel: \"encoder\"\u001b[0m\n"
      ]
     },
     "metadata": {},
     "output_type": "display_data"
    },
    {
     "data": {
      "text/html": [
       "<pre style=\"white-space:pre;overflow-x:auto;line-height:normal;font-family:Menlo,'DejaVu Sans Mono',consolas,'Courier New',monospace\">┏━━━━━━━━━━━━━━━━━━━━━┳━━━━━━━━━━━━━━━━━━━┳━━━━━━━━━━━━┳━━━━━━━━━━━━━━━━━━━┓\n",
       "┃<span style=\"font-weight: bold\"> Layer (type)        </span>┃<span style=\"font-weight: bold\"> Output Shape      </span>┃<span style=\"font-weight: bold\">    Param # </span>┃<span style=\"font-weight: bold\"> Connected to      </span>┃\n",
       "┡━━━━━━━━━━━━━━━━━━━━━╇━━━━━━━━━━━━━━━━━━━╇━━━━━━━━━━━━╇━━━━━━━━━━━━━━━━━━━┩\n",
       "│ encoder_input       │ (<span style=\"color: #00af00; text-decoration-color: #00af00\">100</span>, <span style=\"color: #00d7ff; text-decoration-color: #00d7ff\">None</span>, <span style=\"color: #00af00; text-decoration-color: #00af00\">5</span>)    │          <span style=\"color: #00af00; text-decoration-color: #00af00\">0</span> │ -                 │\n",
       "│ (<span style=\"color: #0087ff; text-decoration-color: #0087ff\">InputLayer</span>)        │                   │            │                   │\n",
       "├─────────────────────┼───────────────────┼────────────┼───────────────────┤\n",
       "│ BI_LSTM_encoder     │ (<span style=\"color: #00af00; text-decoration-color: #00af00\">100</span>, <span style=\"color: #00af00; text-decoration-color: #00af00\">512</span>)        │    <span style=\"color: #00af00; text-decoration-color: #00af00\">536,576</span> │ encoder_input[<span style=\"color: #00af00; text-decoration-color: #00af00\">0</span>]… │\n",
       "│ (<span style=\"color: #0087ff; text-decoration-color: #0087ff\">Bidirectional</span>)     │                   │            │                   │\n",
       "├─────────────────────┼───────────────────┼────────────┼───────────────────┤\n",
       "│ mean_MLP (<span style=\"color: #0087ff; text-decoration-color: #0087ff\">Dense</span>)    │ (<span style=\"color: #00af00; text-decoration-color: #00af00\">100</span>, <span style=\"color: #00af00; text-decoration-color: #00af00\">256</span>)        │    <span style=\"color: #00af00; text-decoration-color: #00af00\">131,328</span> │ BI_LSTM_encoder[<span style=\"color: #00af00; text-decoration-color: #00af00\">…</span> │\n",
       "├─────────────────────┼───────────────────┼────────────┼───────────────────┤\n",
       "│ variance_MLP        │ (<span style=\"color: #00af00; text-decoration-color: #00af00\">100</span>, <span style=\"color: #00af00; text-decoration-color: #00af00\">256</span>)        │    <span style=\"color: #00af00; text-decoration-color: #00af00\">131,328</span> │ BI_LSTM_encoder[<span style=\"color: #00af00; text-decoration-color: #00af00\">…</span> │\n",
       "│ (<span style=\"color: #0087ff; text-decoration-color: #0087ff\">Dense</span>)             │                   │            │                   │\n",
       "├─────────────────────┼───────────────────┼────────────┼───────────────────┤\n",
       "│ z (<span style=\"color: #0087ff; text-decoration-color: #0087ff\">Lambda</span>)          │ (<span style=\"color: #00af00; text-decoration-color: #00af00\">100</span>, <span style=\"color: #00af00; text-decoration-color: #00af00\">256</span>)        │          <span style=\"color: #00af00; text-decoration-color: #00af00\">0</span> │ mean_MLP[<span style=\"color: #00af00; text-decoration-color: #00af00\">0</span>][<span style=\"color: #00af00; text-decoration-color: #00af00\">0</span>],   │\n",
       "│                     │                   │            │ variance_MLP[<span style=\"color: #00af00; text-decoration-color: #00af00\">0</span>][<span style=\"color: #00af00; text-decoration-color: #00af00\">…</span> │\n",
       "└─────────────────────┴───────────────────┴────────────┴───────────────────┘\n",
       "</pre>\n"
      ],
      "text/plain": [
       "┏━━━━━━━━━━━━━━━━━━━━━┳━━━━━━━━━━━━━━━━━━━┳━━━━━━━━━━━━┳━━━━━━━━━━━━━━━━━━━┓\n",
       "┃\u001b[1m \u001b[0m\u001b[1mLayer (type)       \u001b[0m\u001b[1m \u001b[0m┃\u001b[1m \u001b[0m\u001b[1mOutput Shape     \u001b[0m\u001b[1m \u001b[0m┃\u001b[1m \u001b[0m\u001b[1m   Param #\u001b[0m\u001b[1m \u001b[0m┃\u001b[1m \u001b[0m\u001b[1mConnected to     \u001b[0m\u001b[1m \u001b[0m┃\n",
       "┡━━━━━━━━━━━━━━━━━━━━━╇━━━━━━━━━━━━━━━━━━━╇━━━━━━━━━━━━╇━━━━━━━━━━━━━━━━━━━┩\n",
       "│ encoder_input       │ (\u001b[38;5;34m100\u001b[0m, \u001b[38;5;45mNone\u001b[0m, \u001b[38;5;34m5\u001b[0m)    │          \u001b[38;5;34m0\u001b[0m │ -                 │\n",
       "│ (\u001b[38;5;33mInputLayer\u001b[0m)        │                   │            │                   │\n",
       "├─────────────────────┼───────────────────┼────────────┼───────────────────┤\n",
       "│ BI_LSTM_encoder     │ (\u001b[38;5;34m100\u001b[0m, \u001b[38;5;34m512\u001b[0m)        │    \u001b[38;5;34m536,576\u001b[0m │ encoder_input[\u001b[38;5;34m0\u001b[0m]… │\n",
       "│ (\u001b[38;5;33mBidirectional\u001b[0m)     │                   │            │                   │\n",
       "├─────────────────────┼───────────────────┼────────────┼───────────────────┤\n",
       "│ mean_MLP (\u001b[38;5;33mDense\u001b[0m)    │ (\u001b[38;5;34m100\u001b[0m, \u001b[38;5;34m256\u001b[0m)        │    \u001b[38;5;34m131,328\u001b[0m │ BI_LSTM_encoder[\u001b[38;5;34m…\u001b[0m │\n",
       "├─────────────────────┼───────────────────┼────────────┼───────────────────┤\n",
       "│ variance_MLP        │ (\u001b[38;5;34m100\u001b[0m, \u001b[38;5;34m256\u001b[0m)        │    \u001b[38;5;34m131,328\u001b[0m │ BI_LSTM_encoder[\u001b[38;5;34m…\u001b[0m │\n",
       "│ (\u001b[38;5;33mDense\u001b[0m)             │                   │            │                   │\n",
       "├─────────────────────┼───────────────────┼────────────┼───────────────────┤\n",
       "│ z (\u001b[38;5;33mLambda\u001b[0m)          │ (\u001b[38;5;34m100\u001b[0m, \u001b[38;5;34m256\u001b[0m)        │          \u001b[38;5;34m0\u001b[0m │ mean_MLP[\u001b[38;5;34m0\u001b[0m][\u001b[38;5;34m0\u001b[0m],   │\n",
       "│                     │                   │            │ variance_MLP[\u001b[38;5;34m0\u001b[0m][\u001b[38;5;34m…\u001b[0m │\n",
       "└─────────────────────┴───────────────────┴────────────┴───────────────────┘\n"
      ]
     },
     "metadata": {},
     "output_type": "display_data"
    },
    {
     "data": {
      "text/html": [
       "<pre style=\"white-space:pre;overflow-x:auto;line-height:normal;font-family:Menlo,'DejaVu Sans Mono',consolas,'Courier New',monospace\"><span style=\"font-weight: bold\"> Total params: </span><span style=\"color: #00af00; text-decoration-color: #00af00\">799,232</span> (3.05 MB)\n",
       "</pre>\n"
      ],
      "text/plain": [
       "\u001b[1m Total params: \u001b[0m\u001b[38;5;34m799,232\u001b[0m (3.05 MB)\n"
      ]
     },
     "metadata": {},
     "output_type": "display_data"
    },
    {
     "data": {
      "text/html": [
       "<pre style=\"white-space:pre;overflow-x:auto;line-height:normal;font-family:Menlo,'DejaVu Sans Mono',consolas,'Courier New',monospace\"><span style=\"font-weight: bold\"> Trainable params: </span><span style=\"color: #00af00; text-decoration-color: #00af00\">799,232</span> (3.05 MB)\n",
       "</pre>\n"
      ],
      "text/plain": [
       "\u001b[1m Trainable params: \u001b[0m\u001b[38;5;34m799,232\u001b[0m (3.05 MB)\n"
      ]
     },
     "metadata": {},
     "output_type": "display_data"
    },
    {
     "data": {
      "text/html": [
       "<pre style=\"white-space:pre;overflow-x:auto;line-height:normal;font-family:Menlo,'DejaVu Sans Mono',consolas,'Courier New',monospace\"><span style=\"font-weight: bold\"> Non-trainable params: </span><span style=\"color: #00af00; text-decoration-color: #00af00\">0</span> (0.00 B)\n",
       "</pre>\n"
      ],
      "text/plain": [
       "\u001b[1m Non-trainable params: \u001b[0m\u001b[38;5;34m0\u001b[0m (0.00 B)\n"
      ]
     },
     "metadata": {},
     "output_type": "display_data"
    }
   ],
   "source": [
    "\"\"\"\n",
    "Create the model\n",
    "\n",
    "1. ENCODER\n",
    "\"\"\"\n",
    "encoder_input = tf.keras.layers.Input(batch_shape = (HP.batch_size, None, HP.input_dimention), name = \"encoder_input\" )\n",
    "\n",
    "encoderLSTM = tf.keras.layers.Bidirectional(tf.keras.layers.LSTM(HP.enc_hidden_size, return_sequences=False,\n",
    "    recurrent_dropout=HP.rec_dropout, name = \"LSTM_encoder\"), merge_mode='concat', name = \"BI_LSTM_encoder\")(encoder_input)\n",
    "\n",
    "hidden_state_mean = tf.keras.layers.Dense(HP.latent_dim, activation='linear', name = \"mean_MLP\")(encoderLSTM)\n",
    "\n",
    "variance_hat = tf.keras.layers.Dense(HP.latent_dim, activation='linear', name = \"variance_MLP\")(encoderLSTM)\n",
    "\n",
    "# from mean and variance to latent vairable z\n",
    "z = tf.keras.layers.Lambda(sampling, output_shape=(HP.latent_dim,), name='z')([hidden_state_mean, variance_hat])\n",
    "\n",
    "# create the model with keras\n",
    "encoder = tf.keras.models.Model(encoder_input, [hidden_state_mean, variance_hat, z], name='encoder')\n",
    "encoder.summary()\n",
    "#tf.keras.utils.plot_model(encoder, to_file='vae_mlp_encoder.png', show_shapes=True)\n",
    "\n",
    "\"\"\" \n",
    "DECODER \n",
    "\"\"\"\n",
    "# the decoder LSTM has an input composed by the sequence and also the hidden state\n",
    "decoder_input_sequence = tf.keras.layers.Input(batch_shape = (HP.batch_size, HP.max_seq_length, HP.input_dimention), name = \"decoder_seq_input\" )\n",
    "# we have also the latent variable as input of the LSTM with the sequence\n",
    "inputLatentVariable = tf.keras.layers.RepeatVector(HP.max_seq_length)(z)\n",
    "# so we concatentate the two vector\n",
    "# as input we have the two vector above concatenated\n",
    "totalInput = tf.keras.layers.Concatenate()([decoder_input_sequence, inputLatentVariable])\n",
    "# Create LSTM for generation with input state = tanh(z)\n",
    "decoderLSTM = tf.keras.layers.LSTM(HP.dec_hidden_size, recurrent_dropout=HP.rec_dropout, \n",
    "                                    return_sequences=True, return_state=True, name = \"LSTM_decoder\")\n",
    "#"
   ]
  },
  {
   "cell_type": "code",
   "execution_count": 6,
   "metadata": {
    "colab": {
     "base_uri": "https://localhost:8080/",
     "height": 1000
    },
    "colab_type": "code",
    "execution": {
     "iopub.execute_input": "2024-07-21T17:05:23.422248Z",
     "iopub.status.busy": "2024-07-21T17:05:23.421964Z",
     "iopub.status.idle": "2024-07-21T17:05:23.428265Z",
     "shell.execute_reply": "2024-07-21T17:05:23.427917Z",
     "shell.execute_reply.started": "2024-07-21T17:05:23.422237Z"
    },
    "id": "lvfvYwFXdRTZ",
    "outputId": "f5b133c6-80f3-45dd-ca0a-5097b74c6454"
   },
   "outputs": [],
   "source": [
    "init_state = tf.keras.layers.Dense(units=(2*decoderLSTM.units), activation='tanh', name = \"decoder_init_stat\")(z)"
   ]
  },
  {
   "cell_type": "code",
   "execution_count": 7,
   "metadata": {
    "execution": {
     "iopub.execute_input": "2024-07-21T17:05:23.428802Z",
     "iopub.status.busy": "2024-07-21T17:05:23.428711Z",
     "iopub.status.idle": "2024-07-21T17:05:23.435687Z",
     "shell.execute_reply": "2024-07-21T17:05:23.435358Z",
     "shell.execute_reply.started": "2024-07-21T17:05:23.428794Z"
    }
   },
   "outputs": [
    {
     "data": {
      "text/plain": [
       "<KerasTensor shape=(100, 1024), dtype=float32, sparse=False, name=keras_tensor_6>"
      ]
     },
     "execution_count": 7,
     "metadata": {},
     "output_type": "execute_result"
    }
   ],
   "source": [
    "init_state"
   ]
  },
  {
   "cell_type": "code",
   "execution_count": 8,
   "metadata": {
    "execution": {
     "iopub.execute_input": "2024-07-21T17:05:23.436433Z",
     "iopub.status.busy": "2024-07-21T17:05:23.436336Z",
     "iopub.status.idle": "2024-07-21T17:05:23.445592Z",
     "shell.execute_reply": "2024-07-21T17:05:23.445236Z",
     "shell.execute_reply.started": "2024-07-21T17:05:23.436425Z"
    }
   },
   "outputs": [],
   "source": [
    "# thanks chatgpt\n",
    "h_0, c_0 = tf.keras.layers.Lambda(lambda x: tf.split(x, num_or_size_splits=2, axis=1))(init_state)"
   ]
  },
  {
   "cell_type": "code",
   "execution_count": 9,
   "metadata": {
    "colab": {
     "base_uri": "https://localhost:8080/",
     "height": 1000
    },
    "colab_type": "code",
    "execution": {
     "iopub.execute_input": "2024-07-21T17:05:23.446242Z",
     "iopub.status.busy": "2024-07-21T17:05:23.446056Z",
     "iopub.status.idle": "2024-07-21T17:05:23.530367Z",
     "shell.execute_reply": "2024-07-21T17:05:23.529831Z",
     "shell.execute_reply.started": "2024-07-21T17:05:23.446233Z"
    },
    "id": "lvfvYwFXdRTZ",
    "outputId": "f5b133c6-80f3-45dd-ca0a-5097b74c6454"
   },
   "outputs": [
    {
     "data": {
      "text/html": [
       "<pre style=\"white-space:pre;overflow-x:auto;line-height:normal;font-family:Menlo,'DejaVu Sans Mono',consolas,'Courier New',monospace\"><span style=\"font-weight: bold\">Model: \"functional\"</span>\n",
       "</pre>\n"
      ],
      "text/plain": [
       "\u001b[1mModel: \"functional\"\u001b[0m\n"
      ]
     },
     "metadata": {},
     "output_type": "display_data"
    },
    {
     "data": {
      "text/html": [
       "<pre style=\"white-space:pre;overflow-x:auto;line-height:normal;font-family:Menlo,'DejaVu Sans Mono',consolas,'Courier New',monospace\">┏━━━━━━━━━━━━━━━━━━━━━┳━━━━━━━━━━━━━━━━━━━┳━━━━━━━━━━━━┳━━━━━━━━━━━━━━━━━━━┓\n",
       "┃<span style=\"font-weight: bold\"> Layer (type)        </span>┃<span style=\"font-weight: bold\"> Output Shape      </span>┃<span style=\"font-weight: bold\">    Param # </span>┃<span style=\"font-weight: bold\"> Connected to      </span>┃\n",
       "┡━━━━━━━━━━━━━━━━━━━━━╇━━━━━━━━━━━━━━━━━━━╇━━━━━━━━━━━━╇━━━━━━━━━━━━━━━━━━━┩\n",
       "│ encoder_input       │ (<span style=\"color: #00af00; text-decoration-color: #00af00\">100</span>, <span style=\"color: #00d7ff; text-decoration-color: #00d7ff\">None</span>, <span style=\"color: #00af00; text-decoration-color: #00af00\">5</span>)    │          <span style=\"color: #00af00; text-decoration-color: #00af00\">0</span> │ -                 │\n",
       "│ (<span style=\"color: #0087ff; text-decoration-color: #0087ff\">InputLayer</span>)        │                   │            │                   │\n",
       "├─────────────────────┼───────────────────┼────────────┼───────────────────┤\n",
       "│ BI_LSTM_encoder     │ (<span style=\"color: #00af00; text-decoration-color: #00af00\">100</span>, <span style=\"color: #00af00; text-decoration-color: #00af00\">512</span>)        │    <span style=\"color: #00af00; text-decoration-color: #00af00\">536,576</span> │ encoder_input[<span style=\"color: #00af00; text-decoration-color: #00af00\">0</span>]… │\n",
       "│ (<span style=\"color: #0087ff; text-decoration-color: #0087ff\">Bidirectional</span>)     │                   │            │                   │\n",
       "├─────────────────────┼───────────────────┼────────────┼───────────────────┤\n",
       "│ mean_MLP (<span style=\"color: #0087ff; text-decoration-color: #0087ff\">Dense</span>)    │ (<span style=\"color: #00af00; text-decoration-color: #00af00\">100</span>, <span style=\"color: #00af00; text-decoration-color: #00af00\">256</span>)        │    <span style=\"color: #00af00; text-decoration-color: #00af00\">131,328</span> │ BI_LSTM_encoder[<span style=\"color: #00af00; text-decoration-color: #00af00\">…</span> │\n",
       "├─────────────────────┼───────────────────┼────────────┼───────────────────┤\n",
       "│ variance_MLP        │ (<span style=\"color: #00af00; text-decoration-color: #00af00\">100</span>, <span style=\"color: #00af00; text-decoration-color: #00af00\">256</span>)        │    <span style=\"color: #00af00; text-decoration-color: #00af00\">131,328</span> │ BI_LSTM_encoder[<span style=\"color: #00af00; text-decoration-color: #00af00\">…</span> │\n",
       "│ (<span style=\"color: #0087ff; text-decoration-color: #0087ff\">Dense</span>)             │                   │            │                   │\n",
       "├─────────────────────┼───────────────────┼────────────┼───────────────────┤\n",
       "│ z (<span style=\"color: #0087ff; text-decoration-color: #0087ff\">Lambda</span>)          │ (<span style=\"color: #00af00; text-decoration-color: #00af00\">100</span>, <span style=\"color: #00af00; text-decoration-color: #00af00\">256</span>)        │          <span style=\"color: #00af00; text-decoration-color: #00af00\">0</span> │ mean_MLP[<span style=\"color: #00af00; text-decoration-color: #00af00\">0</span>][<span style=\"color: #00af00; text-decoration-color: #00af00\">0</span>],   │\n",
       "│                     │                   │            │ variance_MLP[<span style=\"color: #00af00; text-decoration-color: #00af00\">0</span>][<span style=\"color: #00af00; text-decoration-color: #00af00\">…</span> │\n",
       "├─────────────────────┼───────────────────┼────────────┼───────────────────┤\n",
       "│ decoder_seq_input   │ (<span style=\"color: #00af00; text-decoration-color: #00af00\">100</span>, <span style=\"color: #00af00; text-decoration-color: #00af00\">200</span>, <span style=\"color: #00af00; text-decoration-color: #00af00\">5</span>)     │          <span style=\"color: #00af00; text-decoration-color: #00af00\">0</span> │ -                 │\n",
       "│ (<span style=\"color: #0087ff; text-decoration-color: #0087ff\">InputLayer</span>)        │                   │            │                   │\n",
       "├─────────────────────┼───────────────────┼────────────┼───────────────────┤\n",
       "│ repeat_vector       │ (<span style=\"color: #00af00; text-decoration-color: #00af00\">100</span>, <span style=\"color: #00af00; text-decoration-color: #00af00\">200</span>, <span style=\"color: #00af00; text-decoration-color: #00af00\">256</span>)   │          <span style=\"color: #00af00; text-decoration-color: #00af00\">0</span> │ z[<span style=\"color: #00af00; text-decoration-color: #00af00\">0</span>][<span style=\"color: #00af00; text-decoration-color: #00af00\">0</span>]           │\n",
       "│ (<span style=\"color: #0087ff; text-decoration-color: #0087ff\">RepeatVector</span>)      │                   │            │                   │\n",
       "├─────────────────────┼───────────────────┼────────────┼───────────────────┤\n",
       "│ decoder_init_stat   │ (<span style=\"color: #00af00; text-decoration-color: #00af00\">100</span>, <span style=\"color: #00af00; text-decoration-color: #00af00\">1024</span>)       │    <span style=\"color: #00af00; text-decoration-color: #00af00\">263,168</span> │ z[<span style=\"color: #00af00; text-decoration-color: #00af00\">0</span>][<span style=\"color: #00af00; text-decoration-color: #00af00\">0</span>]           │\n",
       "│ (<span style=\"color: #0087ff; text-decoration-color: #0087ff\">Dense</span>)             │                   │            │                   │\n",
       "├─────────────────────┼───────────────────┼────────────┼───────────────────┤\n",
       "│ concatenate         │ (<span style=\"color: #00af00; text-decoration-color: #00af00\">100</span>, <span style=\"color: #00af00; text-decoration-color: #00af00\">200</span>, <span style=\"color: #00af00; text-decoration-color: #00af00\">261</span>)   │          <span style=\"color: #00af00; text-decoration-color: #00af00\">0</span> │ decoder_seq_inpu… │\n",
       "│ (<span style=\"color: #0087ff; text-decoration-color: #0087ff\">Concatenate</span>)       │                   │            │ repeat_vector[<span style=\"color: #00af00; text-decoration-color: #00af00\">0</span>]… │\n",
       "├─────────────────────┼───────────────────┼────────────┼───────────────────┤\n",
       "│ lambda (<span style=\"color: #0087ff; text-decoration-color: #0087ff\">Lambda</span>)     │ [(<span style=\"color: #00af00; text-decoration-color: #00af00\">100</span>, <span style=\"color: #00af00; text-decoration-color: #00af00\">512</span>),      │          <span style=\"color: #00af00; text-decoration-color: #00af00\">0</span> │ decoder_init_sta… │\n",
       "│                     │ (<span style=\"color: #00af00; text-decoration-color: #00af00\">100</span>, <span style=\"color: #00af00; text-decoration-color: #00af00\">512</span>)]       │            │                   │\n",
       "├─────────────────────┼───────────────────┼────────────┼───────────────────┤\n",
       "│ LSTM_decoder (<span style=\"color: #0087ff; text-decoration-color: #0087ff\">LSTM</span>) │ [(<span style=\"color: #00af00; text-decoration-color: #00af00\">100</span>, <span style=\"color: #00af00; text-decoration-color: #00af00\">200</span>, <span style=\"color: #00af00; text-decoration-color: #00af00\">512</span>), │  <span style=\"color: #00af00; text-decoration-color: #00af00\">1,585,152</span> │ concatenate[<span style=\"color: #00af00; text-decoration-color: #00af00\">0</span>][<span style=\"color: #00af00; text-decoration-color: #00af00\">0</span>… │\n",
       "│                     │ (<span style=\"color: #00af00; text-decoration-color: #00af00\">100</span>, <span style=\"color: #00af00; text-decoration-color: #00af00\">512</span>), (<span style=\"color: #00af00; text-decoration-color: #00af00\">100</span>, │            │ lambda[<span style=\"color: #00af00; text-decoration-color: #00af00\">0</span>][<span style=\"color: #00af00; text-decoration-color: #00af00\">0</span>],     │\n",
       "│                     │ <span style=\"color: #00af00; text-decoration-color: #00af00\">512</span>)]             │            │ lambda[<span style=\"color: #00af00; text-decoration-color: #00af00\">0</span>][<span style=\"color: #00af00; text-decoration-color: #00af00\">1</span>]      │\n",
       "├─────────────────────┼───────────────────┼────────────┼───────────────────┤\n",
       "│ output_layer        │ (<span style=\"color: #00af00; text-decoration-color: #00af00\">100</span>, <span style=\"color: #00af00; text-decoration-color: #00af00\">200</span>, <span style=\"color: #00af00; text-decoration-color: #00af00\">123</span>)   │     <span style=\"color: #00af00; text-decoration-color: #00af00\">63,099</span> │ LSTM_decoder[<span style=\"color: #00af00; text-decoration-color: #00af00\">0</span>][<span style=\"color: #00af00; text-decoration-color: #00af00\">…</span> │\n",
       "│ (<span style=\"color: #0087ff; text-decoration-color: #0087ff\">Dense</span>)             │                   │            │                   │\n",
       "└─────────────────────┴───────────────────┴────────────┴───────────────────┘\n",
       "</pre>\n"
      ],
      "text/plain": [
       "┏━━━━━━━━━━━━━━━━━━━━━┳━━━━━━━━━━━━━━━━━━━┳━━━━━━━━━━━━┳━━━━━━━━━━━━━━━━━━━┓\n",
       "┃\u001b[1m \u001b[0m\u001b[1mLayer (type)       \u001b[0m\u001b[1m \u001b[0m┃\u001b[1m \u001b[0m\u001b[1mOutput Shape     \u001b[0m\u001b[1m \u001b[0m┃\u001b[1m \u001b[0m\u001b[1m   Param #\u001b[0m\u001b[1m \u001b[0m┃\u001b[1m \u001b[0m\u001b[1mConnected to     \u001b[0m\u001b[1m \u001b[0m┃\n",
       "┡━━━━━━━━━━━━━━━━━━━━━╇━━━━━━━━━━━━━━━━━━━╇━━━━━━━━━━━━╇━━━━━━━━━━━━━━━━━━━┩\n",
       "│ encoder_input       │ (\u001b[38;5;34m100\u001b[0m, \u001b[38;5;45mNone\u001b[0m, \u001b[38;5;34m5\u001b[0m)    │          \u001b[38;5;34m0\u001b[0m │ -                 │\n",
       "│ (\u001b[38;5;33mInputLayer\u001b[0m)        │                   │            │                   │\n",
       "├─────────────────────┼───────────────────┼────────────┼───────────────────┤\n",
       "│ BI_LSTM_encoder     │ (\u001b[38;5;34m100\u001b[0m, \u001b[38;5;34m512\u001b[0m)        │    \u001b[38;5;34m536,576\u001b[0m │ encoder_input[\u001b[38;5;34m0\u001b[0m]… │\n",
       "│ (\u001b[38;5;33mBidirectional\u001b[0m)     │                   │            │                   │\n",
       "├─────────────────────┼───────────────────┼────────────┼───────────────────┤\n",
       "│ mean_MLP (\u001b[38;5;33mDense\u001b[0m)    │ (\u001b[38;5;34m100\u001b[0m, \u001b[38;5;34m256\u001b[0m)        │    \u001b[38;5;34m131,328\u001b[0m │ BI_LSTM_encoder[\u001b[38;5;34m…\u001b[0m │\n",
       "├─────────────────────┼───────────────────┼────────────┼───────────────────┤\n",
       "│ variance_MLP        │ (\u001b[38;5;34m100\u001b[0m, \u001b[38;5;34m256\u001b[0m)        │    \u001b[38;5;34m131,328\u001b[0m │ BI_LSTM_encoder[\u001b[38;5;34m…\u001b[0m │\n",
       "│ (\u001b[38;5;33mDense\u001b[0m)             │                   │            │                   │\n",
       "├─────────────────────┼───────────────────┼────────────┼───────────────────┤\n",
       "│ z (\u001b[38;5;33mLambda\u001b[0m)          │ (\u001b[38;5;34m100\u001b[0m, \u001b[38;5;34m256\u001b[0m)        │          \u001b[38;5;34m0\u001b[0m │ mean_MLP[\u001b[38;5;34m0\u001b[0m][\u001b[38;5;34m0\u001b[0m],   │\n",
       "│                     │                   │            │ variance_MLP[\u001b[38;5;34m0\u001b[0m][\u001b[38;5;34m…\u001b[0m │\n",
       "├─────────────────────┼───────────────────┼────────────┼───────────────────┤\n",
       "│ decoder_seq_input   │ (\u001b[38;5;34m100\u001b[0m, \u001b[38;5;34m200\u001b[0m, \u001b[38;5;34m5\u001b[0m)     │          \u001b[38;5;34m0\u001b[0m │ -                 │\n",
       "│ (\u001b[38;5;33mInputLayer\u001b[0m)        │                   │            │                   │\n",
       "├─────────────────────┼───────────────────┼────────────┼───────────────────┤\n",
       "│ repeat_vector       │ (\u001b[38;5;34m100\u001b[0m, \u001b[38;5;34m200\u001b[0m, \u001b[38;5;34m256\u001b[0m)   │          \u001b[38;5;34m0\u001b[0m │ z[\u001b[38;5;34m0\u001b[0m][\u001b[38;5;34m0\u001b[0m]           │\n",
       "│ (\u001b[38;5;33mRepeatVector\u001b[0m)      │                   │            │                   │\n",
       "├─────────────────────┼───────────────────┼────────────┼───────────────────┤\n",
       "│ decoder_init_stat   │ (\u001b[38;5;34m100\u001b[0m, \u001b[38;5;34m1024\u001b[0m)       │    \u001b[38;5;34m263,168\u001b[0m │ z[\u001b[38;5;34m0\u001b[0m][\u001b[38;5;34m0\u001b[0m]           │\n",
       "│ (\u001b[38;5;33mDense\u001b[0m)             │                   │            │                   │\n",
       "├─────────────────────┼───────────────────┼────────────┼───────────────────┤\n",
       "│ concatenate         │ (\u001b[38;5;34m100\u001b[0m, \u001b[38;5;34m200\u001b[0m, \u001b[38;5;34m261\u001b[0m)   │          \u001b[38;5;34m0\u001b[0m │ decoder_seq_inpu… │\n",
       "│ (\u001b[38;5;33mConcatenate\u001b[0m)       │                   │            │ repeat_vector[\u001b[38;5;34m0\u001b[0m]… │\n",
       "├─────────────────────┼───────────────────┼────────────┼───────────────────┤\n",
       "│ lambda (\u001b[38;5;33mLambda\u001b[0m)     │ [(\u001b[38;5;34m100\u001b[0m, \u001b[38;5;34m512\u001b[0m),      │          \u001b[38;5;34m0\u001b[0m │ decoder_init_sta… │\n",
       "│                     │ (\u001b[38;5;34m100\u001b[0m, \u001b[38;5;34m512\u001b[0m)]       │            │                   │\n",
       "├─────────────────────┼───────────────────┼────────────┼───────────────────┤\n",
       "│ LSTM_decoder (\u001b[38;5;33mLSTM\u001b[0m) │ [(\u001b[38;5;34m100\u001b[0m, \u001b[38;5;34m200\u001b[0m, \u001b[38;5;34m512\u001b[0m), │  \u001b[38;5;34m1,585,152\u001b[0m │ concatenate[\u001b[38;5;34m0\u001b[0m][\u001b[38;5;34m0\u001b[0m… │\n",
       "│                     │ (\u001b[38;5;34m100\u001b[0m, \u001b[38;5;34m512\u001b[0m), (\u001b[38;5;34m100\u001b[0m, │            │ lambda[\u001b[38;5;34m0\u001b[0m][\u001b[38;5;34m0\u001b[0m],     │\n",
       "│                     │ \u001b[38;5;34m512\u001b[0m)]             │            │ lambda[\u001b[38;5;34m0\u001b[0m][\u001b[38;5;34m1\u001b[0m]      │\n",
       "├─────────────────────┼───────────────────┼────────────┼───────────────────┤\n",
       "│ output_layer        │ (\u001b[38;5;34m100\u001b[0m, \u001b[38;5;34m200\u001b[0m, \u001b[38;5;34m123\u001b[0m)   │     \u001b[38;5;34m63,099\u001b[0m │ LSTM_decoder[\u001b[38;5;34m0\u001b[0m][\u001b[38;5;34m…\u001b[0m │\n",
       "│ (\u001b[38;5;33mDense\u001b[0m)             │                   │            │                   │\n",
       "└─────────────────────┴───────────────────┴────────────┴───────────────────┘\n"
      ]
     },
     "metadata": {},
     "output_type": "display_data"
    },
    {
     "data": {
      "text/html": [
       "<pre style=\"white-space:pre;overflow-x:auto;line-height:normal;font-family:Menlo,'DejaVu Sans Mono',consolas,'Courier New',monospace\"><span style=\"font-weight: bold\"> Total params: </span><span style=\"color: #00af00; text-decoration-color: #00af00\">2,710,651</span> (10.34 MB)\n",
       "</pre>\n"
      ],
      "text/plain": [
       "\u001b[1m Total params: \u001b[0m\u001b[38;5;34m2,710,651\u001b[0m (10.34 MB)\n"
      ]
     },
     "metadata": {},
     "output_type": "display_data"
    },
    {
     "data": {
      "text/html": [
       "<pre style=\"white-space:pre;overflow-x:auto;line-height:normal;font-family:Menlo,'DejaVu Sans Mono',consolas,'Courier New',monospace\"><span style=\"font-weight: bold\"> Trainable params: </span><span style=\"color: #00af00; text-decoration-color: #00af00\">2,710,651</span> (10.34 MB)\n",
       "</pre>\n"
      ],
      "text/plain": [
       "\u001b[1m Trainable params: \u001b[0m\u001b[38;5;34m2,710,651\u001b[0m (10.34 MB)\n"
      ]
     },
     "metadata": {},
     "output_type": "display_data"
    },
    {
     "data": {
      "text/html": [
       "<pre style=\"white-space:pre;overflow-x:auto;line-height:normal;font-family:Menlo,'DejaVu Sans Mono',consolas,'Courier New',monospace\"><span style=\"font-weight: bold\"> Non-trainable params: </span><span style=\"color: #00af00; text-decoration-color: #00af00\">0</span> (0.00 B)\n",
       "</pre>\n"
      ],
      "text/plain": [
       "\u001b[1m Non-trainable params: \u001b[0m\u001b[38;5;34m0\u001b[0m (0.00 B)\n"
      ]
     },
     "metadata": {},
     "output_type": "display_data"
    }
   ],
   "source": [
    "# creation of the LSTM\n",
    "decoder_output, _, _ = decoderLSTM(totalInput, initial_state = [h_0, c_0])\n",
    "\n",
    "# dense to output. THe dimention is, as explained in the paper equal to 3 + 6*M\n",
    "# 6 times M= number of mixture \n",
    "output_dimention = (3 + HP.M * 6)\n",
    "distribution_output = tf.keras.layers.Dense(output_dimention, name = \"output_layer\")(decoder_output)\n",
    "\n",
    "# Build Keras model\n",
    "seq_to_seq_VAE = tf.keras.models.Model([encoder_input, decoder_input_sequence], distribution_output)\n",
    "seq_to_seq_VAE.summary()"
   ]
  },
  {
   "cell_type": "markdown",
   "metadata": {
    "colab_type": "text",
    "id": "_6-ojE94Od9m"
   },
   "source": [
    "Define the loss"
   ]
  },
  {
   "cell_type": "code",
   "execution_count": 10,
   "metadata": {
    "colab": {},
    "colab_type": "code",
    "execution": {
     "iopub.execute_input": "2024-07-21T17:05:23.530969Z",
     "iopub.status.busy": "2024-07-21T17:05:23.530872Z",
     "iopub.status.idle": "2024-07-21T17:05:23.534103Z",
     "shell.execute_reply": "2024-07-21T17:05:23.533753Z",
     "shell.execute_reply.started": "2024-07-21T17:05:23.530960Z"
    },
    "id": "O8kUj1hlOb_C"
   },
   "outputs": [],
   "source": [
    "    KL_weight = tf.keras.backend.variable(0.01, name = 'kl_weight')\n",
    "    KL_wheight_schedule = data_Manager.changing_KL_wheight(KL_weight)\n",
    "    def vae_loss(y_true, y_pred):\n",
    "        \"\"\" Calculate loss = reconstruction loss + KL loss for each data in minibatch \"\"\"\n",
    "        # E[log P(X|z)]\n",
    "        recon = reconstruction_loss(y_true, y_pred)\n",
    "        # D_KL(Q(z|X) || P(z|X)); calculate in closed form as both dist. are Gaussian\n",
    "        kl = kl_loss(hidden_state_mean, variance_hat)\n",
    "\n",
    "        return recon + kl*KL_weight"
   ]
  },
  {
   "cell_type": "code",
   "execution_count": 11,
   "metadata": {
    "colab": {},
    "colab_type": "code",
    "execution": {
     "iopub.execute_input": "2024-07-21T17:05:23.534668Z",
     "iopub.status.busy": "2024-07-21T17:05:23.534500Z",
     "iopub.status.idle": "2024-07-21T17:05:23.547342Z",
     "shell.execute_reply": "2024-07-21T17:05:23.546845Z",
     "shell.execute_reply.started": "2024-07-21T17:05:23.534659Z"
    },
    "id": "XtTfyMSsUOQ0"
   },
   "outputs": [],
   "source": [
    "optimizer = tf.keras.optimizers.Adam(learning_rate = HP.lr, clipvalue= HP.grad_clip)\n",
    "seq_to_seq_VAE.compile(optimizer=optimizer,  loss = vae_loss)\n"
   ]
  },
  {
   "cell_type": "code",
   "execution_count": 12,
   "metadata": {
    "colab": {
     "base_uri": "https://localhost:8080/",
     "height": 34
    },
    "colab_type": "code",
    "execution": {
     "iopub.execute_input": "2024-07-21T17:05:23.548095Z",
     "iopub.status.busy": "2024-07-21T17:05:23.547994Z",
     "iopub.status.idle": "2024-07-21T17:05:23.553730Z",
     "shell.execute_reply": "2024-07-21T17:05:23.553379Z",
     "shell.execute_reply.started": "2024-07-21T17:05:23.548086Z"
    },
    "id": "DacL6r3Dd4um",
    "outputId": "9881efd1-7701-4f29-b84d-240f7450325f",
    "scrolled": true
   },
   "outputs": [
    {
     "name": "stdout",
     "output_type": "stream",
     "text": [
      "Found GPU at: /device:GPU:0\n"
     ]
    },
    {
     "name": "stderr",
     "output_type": "stream",
     "text": [
      "I0000 00:00:1721581523.551307  264367 cuda_executor.cc:1001] could not open file to read NUMA node: /sys/bus/pci/devices/0000:01:00.0/numa_node\n",
      "Your kernel may have been built without NUMA support.\n",
      "I0000 00:00:1721581523.551356  264367 cuda_executor.cc:1001] could not open file to read NUMA node: /sys/bus/pci/devices/0000:01:00.0/numa_node\n",
      "Your kernel may have been built without NUMA support.\n",
      "I0000 00:00:1721581523.551376  264367 cuda_executor.cc:1001] could not open file to read NUMA node: /sys/bus/pci/devices/0000:01:00.0/numa_node\n",
      "Your kernel may have been built without NUMA support.\n",
      "I0000 00:00:1721581523.551485  264367 cuda_executor.cc:1001] could not open file to read NUMA node: /sys/bus/pci/devices/0000:01:00.0/numa_node\n",
      "Your kernel may have been built without NUMA support.\n",
      "2024-07-22 01:05:23.551497: I tensorflow/core/common_runtime/gpu/gpu_device.cc:2112] Could not identify NUMA node of platform GPU id 0, defaulting to 0.  Your kernel may not have been built with NUMA support.\n",
      "I0000 00:00:1721581523.551522  264367 cuda_executor.cc:1001] could not open file to read NUMA node: /sys/bus/pci/devices/0000:01:00.0/numa_node\n",
      "Your kernel may have been built without NUMA support.\n",
      "2024-07-22 01:05:23.551529: I tensorflow/core/common_runtime/gpu/gpu_device.cc:2021] Created device /device:GPU:0 with 9525 MB memory:  -> device: 0, name: NVIDIA GeForce RTX 4080 Laptop GPU, pci bus id: 0000:01:00.0, compute capability: 8.9\n"
     ]
    }
   ],
   "source": [
    "device_name = tf.test.gpu_device_name()\n",
    "if device_name != '/device:GPU:0':\n",
    "  raise SystemError('GPU device not found')\n",
    "print('Found GPU at: {}'.format(device_name))"
   ]
  },
  {
   "cell_type": "code",
   "execution_count": 13,
   "metadata": {
    "execution": {
     "iopub.execute_input": "2024-07-21T17:05:23.554204Z",
     "iopub.status.busy": "2024-07-21T17:05:23.554113Z",
     "iopub.status.idle": "2024-07-21T17:05:23.561687Z",
     "shell.execute_reply": "2024-07-21T17:05:23.561268Z",
     "shell.execute_reply.started": "2024-07-21T17:05:23.554195Z"
    }
   },
   "outputs": [],
   "source": [
    "output_signature = ((\n",
    "  tf.TensorSpec(shape=(HP.batch_size, HP.max_seq_length, HP.input_dimention), dtype=tf.float32),\n",
    "  tf.TensorSpec(shape=(HP.batch_size, HP.max_seq_length, HP.input_dimention), dtype=tf.float32),\n",
    "), \n",
    "  tf.TensorSpec(shape=(HP.batch_size, HP.max_seq_length, HP.input_dimention), dtype=tf.float32),\n",
    ")"
   ]
  },
  {
   "cell_type": "code",
   "execution_count": 14,
   "metadata": {
    "colab": {
     "base_uri": "https://localhost:8080/",
     "height": 794
    },
    "colab_type": "code",
    "execution": {
     "iopub.execute_input": "2024-07-21T17:05:23.562430Z",
     "iopub.status.busy": "2024-07-21T17:05:23.562193Z",
     "iopub.status.idle": "2024-07-21T17:05:23.770943Z",
     "shell.execute_reply": "2024-07-21T17:05:23.770325Z",
     "shell.execute_reply.started": "2024-07-21T17:05:23.562408Z"
    },
    "id": "7axRtgETdjwG",
    "outputId": "473f9ec0-4df4-49d6-e820-ca7009442570"
   },
   "outputs": [
    {
     "name": "stdout",
     "output_type": "stream",
     "text": [
      "Epoch 1/20\n"
     ]
    },
    {
     "ename": "ValueError",
     "evalue": "A KerasTensor is symbolic: it's a placeholder for a shape an a dtype. It doesn't have any actual numerical value. You cannot convert it to a NumPy array.",
     "output_type": "error",
     "traceback": [
      "\u001b[0;31m---------------------------------------------------------------------------\u001b[0m",
      "\u001b[0;31mValueError\u001b[0m                                Traceback (most recent call last)",
      "Cell \u001b[0;32mIn[14], line 4\u001b[0m\n\u001b[1;32m      2\u001b[0m   train_dataset \u001b[38;5;241m=\u001b[39m tf\u001b[38;5;241m.\u001b[39mdata\u001b[38;5;241m.\u001b[39mDataset\u001b[38;5;241m.\u001b[39mfrom_generator(\u001b[38;5;28;01mlambda\u001b[39;00m: train_generator, output_signature\u001b[38;5;241m=\u001b[39moutput_signature)\n\u001b[1;32m      3\u001b[0m   validation_dataset \u001b[38;5;241m=\u001b[39m tf\u001b[38;5;241m.\u001b[39mdata\u001b[38;5;241m.\u001b[39mDataset\u001b[38;5;241m.\u001b[39mfrom_generator(\u001b[38;5;28;01mlambda\u001b[39;00m: validation_generator, output_signature\u001b[38;5;241m=\u001b[39moutput_signature)\n\u001b[0;32m----> 4\u001b[0m   history \u001b[38;5;241m=\u001b[39m \u001b[43mseq_to_seq_VAE\u001b[49m\u001b[38;5;241;43m.\u001b[39;49m\u001b[43mfit\u001b[49m\u001b[43m(\u001b[49m\n\u001b[1;32m      5\u001b[0m \u001b[43m                       \u001b[49m\u001b[43mtrain_dataset\u001b[49m\u001b[43m,\u001b[49m\n\u001b[1;32m      6\u001b[0m \u001b[43m                       \u001b[49m\u001b[38;5;66;43;03m# validation_data= ([validation_encoder, validation_decoder],[validation_encoder]),\u001b[39;49;00m\n\u001b[1;32m      7\u001b[0m \u001b[43m                       \u001b[49m\u001b[43mvalidation_data\u001b[49m\u001b[38;5;241;43m=\u001b[39;49m\u001b[43mvalidation_dataset\u001b[49m\u001b[43m,\u001b[49m\n\u001b[1;32m      8\u001b[0m \u001b[43m                       \u001b[49m\u001b[43msteps_per_epoch\u001b[49m\u001b[38;5;241;43m=\u001b[39;49m\u001b[43m(\u001b[49m\u001b[43mdatas\u001b[49m\u001b[38;5;241;43m.\u001b[39;49m\u001b[43mtrainDimention\u001b[49m\u001b[43m)\u001b[49m\u001b[38;5;241;43m/\u001b[39;49m\u001b[38;5;241;43m/\u001b[39;49m\u001b[43mHP\u001b[49m\u001b[38;5;241;43m.\u001b[39;49m\u001b[43mbatch_size\u001b[49m\u001b[43m,\u001b[49m\u001b[43m \u001b[49m\n\u001b[1;32m      9\u001b[0m \u001b[43m                       \u001b[49m\u001b[43mepochs\u001b[49m\u001b[38;5;241;43m=\u001b[39;49m\u001b[43mHP\u001b[49m\u001b[38;5;241;43m.\u001b[39;49m\u001b[43mepochs\u001b[49m\u001b[43m,\u001b[49m\u001b[43m \u001b[49m\n\u001b[1;32m     10\u001b[0m \u001b[43m                       \u001b[49m\u001b[43mcallbacks\u001b[49m\u001b[38;5;241;43m=\u001b[39;49m\u001b[43m[\u001b[49m\u001b[43mKL_wheight_schedule\u001b[49m\u001b[43m]\u001b[49m\u001b[43m)\u001b[49m\n\u001b[1;32m     11\u001b[0m \u001b[38;5;66;03m# save the model\u001b[39;00m\n\u001b[1;32m     12\u001b[0m seq_to_seq_VAE\u001b[38;5;241m.\u001b[39msave_weights(\u001b[38;5;124m\"\u001b[39m\u001b[38;5;124mmodel_weight_carrot_20_epochs.h5\u001b[39m\u001b[38;5;124m\"\u001b[39m)\n",
      "File \u001b[0;32m~/anaconda3/envs/sketch-rnn-2/lib/python3.10/site-packages/keras/src/utils/traceback_utils.py:122\u001b[0m, in \u001b[0;36mfilter_traceback.<locals>.error_handler\u001b[0;34m(*args, **kwargs)\u001b[0m\n\u001b[1;32m    119\u001b[0m     filtered_tb \u001b[38;5;241m=\u001b[39m _process_traceback_frames(e\u001b[38;5;241m.\u001b[39m__traceback__)\n\u001b[1;32m    120\u001b[0m     \u001b[38;5;66;03m# To get the full stack trace, call:\u001b[39;00m\n\u001b[1;32m    121\u001b[0m     \u001b[38;5;66;03m# `keras.config.disable_traceback_filtering()`\u001b[39;00m\n\u001b[0;32m--> 122\u001b[0m     \u001b[38;5;28;01mraise\u001b[39;00m e\u001b[38;5;241m.\u001b[39mwith_traceback(filtered_tb) \u001b[38;5;28;01mfrom\u001b[39;00m \u001b[38;5;28;01mNone\u001b[39;00m\n\u001b[1;32m    123\u001b[0m \u001b[38;5;28;01mfinally\u001b[39;00m:\n\u001b[1;32m    124\u001b[0m     \u001b[38;5;28;01mdel\u001b[39;00m filtered_tb\n",
      "Cell \u001b[0;32mIn[10], line 8\u001b[0m, in \u001b[0;36mvae_loss\u001b[0;34m(y_true, y_pred)\u001b[0m\n\u001b[1;32m      6\u001b[0m recon \u001b[38;5;241m=\u001b[39m reconstruction_loss(y_true, y_pred)\n\u001b[1;32m      7\u001b[0m \u001b[38;5;66;03m# D_KL(Q(z|X) || P(z|X)); calculate in closed form as both dist. are Gaussian\u001b[39;00m\n\u001b[0;32m----> 8\u001b[0m kl \u001b[38;5;241m=\u001b[39m \u001b[43mkl_loss\u001b[49m\u001b[43m(\u001b[49m\u001b[43mhidden_state_mean\u001b[49m\u001b[43m,\u001b[49m\u001b[43m \u001b[49m\u001b[43mvariance_hat\u001b[49m\u001b[43m)\u001b[49m\n\u001b[1;32m     10\u001b[0m \u001b[38;5;28;01mreturn\u001b[39;00m recon \u001b[38;5;241m+\u001b[39m kl\u001b[38;5;241m*\u001b[39mKL_weight\n",
      "File \u001b[0;32m~/anaconda3/envs/sketch-rnn-2/lib/python3.10/site-packages/tensorflow/core/function/polymorphism/function_type.py:583\u001b[0m, in \u001b[0;36mcanonicalize_to_monomorphic\u001b[0;34m(args, kwargs, default_values, capture_types, polymorphic_type)\u001b[0m\n\u001b[1;32m    577\u001b[0m       parameters\u001b[38;5;241m.\u001b[39mappend(\n\u001b[1;32m    578\u001b[0m           _make_validated_mono_param(kwarg_name, arg[kwarg_name],\n\u001b[1;32m    579\u001b[0m                                      Parameter\u001b[38;5;241m.\u001b[39mKEYWORD_ONLY, type_context,\n\u001b[1;32m    580\u001b[0m                                      poly_parameter\u001b[38;5;241m.\u001b[39mtype_constraint))\n\u001b[1;32m    581\u001b[0m   \u001b[38;5;28;01melse\u001b[39;00m:\n\u001b[1;32m    582\u001b[0m     parameters\u001b[38;5;241m.\u001b[39mappend(\n\u001b[0;32m--> 583\u001b[0m         \u001b[43m_make_validated_mono_param\u001b[49m\u001b[43m(\u001b[49m\u001b[43mname\u001b[49m\u001b[43m,\u001b[49m\u001b[43m \u001b[49m\u001b[43marg\u001b[49m\u001b[43m,\u001b[49m\u001b[43m \u001b[49m\u001b[43mpoly_parameter\u001b[49m\u001b[38;5;241;43m.\u001b[39;49m\u001b[43mkind\u001b[49m\u001b[43m,\u001b[49m\n\u001b[1;32m    584\u001b[0m \u001b[43m                                   \u001b[49m\u001b[43mtype_context\u001b[49m\u001b[43m,\u001b[49m\n\u001b[1;32m    585\u001b[0m \u001b[43m                                   \u001b[49m\u001b[43mpoly_parameter\u001b[49m\u001b[38;5;241;43m.\u001b[39;49m\u001b[43mtype_constraint\u001b[49m\u001b[43m)\u001b[49m)\n\u001b[1;32m    587\u001b[0m \u001b[38;5;28;01mreturn\u001b[39;00m FunctionType(parameters, capture_types), type_context\n",
      "File \u001b[0;32m~/anaconda3/envs/sketch-rnn-2/lib/python3.10/site-packages/tensorflow/core/function/polymorphism/function_type.py:522\u001b[0m, in \u001b[0;36m_make_validated_mono_param\u001b[0;34m(name, value, kind, type_context, poly_type)\u001b[0m\n\u001b[1;32m    518\u001b[0m \u001b[38;5;28;01mdef\u001b[39;00m \u001b[38;5;21m_make_validated_mono_param\u001b[39m(\n\u001b[1;32m    519\u001b[0m     name, value, kind, type_context, poly_type\n\u001b[1;32m    520\u001b[0m ) \u001b[38;5;241m-\u001b[39m\u001b[38;5;241m>\u001b[39m Parameter:\n\u001b[1;32m    521\u001b[0m \u001b[38;5;250m  \u001b[39m\u001b[38;5;124;03m\"\"\"Generates and validates a parameter for Monomorphic FunctionType.\"\"\"\u001b[39;00m\n\u001b[0;32m--> 522\u001b[0m   mono_type \u001b[38;5;241m=\u001b[39m \u001b[43mtrace_type\u001b[49m\u001b[38;5;241;43m.\u001b[39;49m\u001b[43mfrom_value\u001b[49m\u001b[43m(\u001b[49m\u001b[43mvalue\u001b[49m\u001b[43m,\u001b[49m\u001b[43m \u001b[49m\u001b[43mtype_context\u001b[49m\u001b[43m)\u001b[49m\n\u001b[1;32m    524\u001b[0m   \u001b[38;5;28;01mif\u001b[39;00m poly_type \u001b[38;5;129;01mand\u001b[39;00m \u001b[38;5;129;01mnot\u001b[39;00m mono_type\u001b[38;5;241m.\u001b[39mis_subtype_of(poly_type):\n\u001b[1;32m    525\u001b[0m     \u001b[38;5;28;01mraise\u001b[39;00m \u001b[38;5;167;01mTypeError\u001b[39;00m(\u001b[38;5;124mf\u001b[39m\u001b[38;5;124m\"\u001b[39m\u001b[38;5;124mParameter `\u001b[39m\u001b[38;5;132;01m{\u001b[39;00mname\u001b[38;5;132;01m}\u001b[39;00m\u001b[38;5;124m` was expected to be of type \u001b[39m\u001b[38;5;124m\"\u001b[39m\n\u001b[1;32m    526\u001b[0m                     \u001b[38;5;124mf\u001b[39m\u001b[38;5;124m\"\u001b[39m\u001b[38;5;132;01m{\u001b[39;00mpoly_type\u001b[38;5;132;01m}\u001b[39;00m\u001b[38;5;124m but is \u001b[39m\u001b[38;5;132;01m{\u001b[39;00mmono_type\u001b[38;5;132;01m}\u001b[39;00m\u001b[38;5;124m\"\u001b[39m)\n",
      "File \u001b[0;32m~/anaconda3/envs/sketch-rnn-2/lib/python3.10/site-packages/tensorflow/core/function/trace_type/trace_type_builder.py:185\u001b[0m, in \u001b[0;36mfrom_value\u001b[0;34m(value, context)\u001b[0m\n\u001b[1;32m    178\u001b[0m   \u001b[38;5;28;01mreturn\u001b[39;00m default_types\u001b[38;5;241m.\u001b[39mAttrs\u001b[38;5;241m.\u001b[39mfrom_type_and_attributes(\n\u001b[1;32m    179\u001b[0m       \u001b[38;5;28mtype\u001b[39m(value),\n\u001b[1;32m    180\u001b[0m       \u001b[38;5;28mtuple\u001b[39m(\n\u001b[1;32m    181\u001b[0m           from_value(\u001b[38;5;28mgetattr\u001b[39m(value, a\u001b[38;5;241m.\u001b[39mname), context)\n\u001b[1;32m    182\u001b[0m           \u001b[38;5;28;01mfor\u001b[39;00m a \u001b[38;5;129;01min\u001b[39;00m value\u001b[38;5;241m.\u001b[39m__attrs_attrs__))\n\u001b[1;32m    184\u001b[0m \u001b[38;5;28;01mif\u001b[39;00m util\u001b[38;5;241m.\u001b[39mis_np_ndarray(value):\n\u001b[0;32m--> 185\u001b[0m   ndarray \u001b[38;5;241m=\u001b[39m \u001b[43mvalue\u001b[49m\u001b[38;5;241;43m.\u001b[39;49m\u001b[43m__array__\u001b[49m\u001b[43m(\u001b[49m\u001b[43m)\u001b[49m\n\u001b[1;32m    186\u001b[0m   \u001b[38;5;28;01mreturn\u001b[39;00m default_types\u001b[38;5;241m.\u001b[39mTENSOR(ndarray\u001b[38;5;241m.\u001b[39mshape, ndarray\u001b[38;5;241m.\u001b[39mdtype)\n\u001b[1;32m    188\u001b[0m \u001b[38;5;28;01mif\u001b[39;00m \u001b[38;5;28misinstance\u001b[39m(value, custom_nest_protocol\u001b[38;5;241m.\u001b[39mCustomNestProtocol):\n",
      "\u001b[0;31mValueError\u001b[0m: A KerasTensor is symbolic: it's a placeholder for a shape an a dtype. It doesn't have any actual numerical value. You cannot convert it to a NumPy array."
     ]
    }
   ],
   "source": [
    "with tf.device('/device:GPU:0'):\n",
    "  train_dataset = tf.data.Dataset.from_generator(lambda: train_generator, output_signature=output_signature)\n",
    "  validation_dataset = tf.data.Dataset.from_generator(lambda: validation_generator, output_signature=output_signature)\n",
    "  history = seq_to_seq_VAE.fit(\n",
    "                       train_dataset,\n",
    "                       # validation_data= ([validation_encoder, validation_decoder],[validation_encoder]),\n",
    "                       validation_data=validation_dataset,\n",
    "                       steps_per_epoch=(datas.trainDimention)//HP.batch_size, \n",
    "                       epochs=HP.epochs, \n",
    "                       callbacks=[KL_wheight_schedule])\n",
    "# save the model\n",
    "seq_to_seq_VAE.save_weights(\"model_weight_carrot_20_epochs.h5\")"
   ]
  },
  {
   "cell_type": "markdown",
   "metadata": {
    "colab_type": "text",
    "id": "q8auMLOlPF05"
   },
   "source": [
    "Plot the history"
   ]
  },
  {
   "cell_type": "code",
   "execution_count": null,
   "metadata": {
    "colab": {
     "base_uri": "https://localhost:8080/",
     "height": 312
    },
    "colab_type": "code",
    "id": "OMOfu0LYgLZt",
    "outputId": "43af4fc3-9ff1-4c1f-a7a7-87c911983764"
   },
   "outputs": [
    {
     "name": "stdout",
     "output_type": "stream",
     "text": [
      "dict_keys(['loss', 'val_loss'])\n"
     ]
    },
    {
     "data": {
      "image/png": "[encoded data removed]",
      "text/plain": [
       "<Figure size 432x288 with 1 Axes>"
      ]
     },
     "metadata": {
      "tags": []
     },
     "output_type": "display_data"
    }
   ],
   "source": [
    "import matplotlib.pyplot as plt\n",
    "import numpy as np\n",
    "print(history.history.keys())\n",
    "# summarize history for loss\n",
    "plt.plot(history.history['loss'])\n",
    "plt.plot(history.history['val_loss'])\n",
    "plt.title('model loss')\n",
    "plt.ylabel('loss')\n",
    "plt.xlabel('epoch')\n",
    "plt.legend(['train', 'test'], loc='upper left')\n",
    "plt.show()"
   ]
  },
  {
   "cell_type": "code",
   "execution_count": null,
   "metadata": {
    "colab": {},
    "colab_type": "code",
    "id": "kJFbuw9GAK2l"
   },
   "outputs": [],
   "source": [
    "seq_to_seq_VAE.load_weights(\"model_weight_carrot_20_epochs.h5\", by_name = True)\n"
   ]
  },
  {
   "cell_type": "code",
   "execution_count": null,
   "metadata": {
    "colab": {
     "base_uri": "https://localhost:8080/",
     "height": 1000
    },
    "colab_type": "code",
    "id": "Fy_NJOcr-SH3",
    "outputId": "3c32ae0c-7560-4ac2-a94d-a5eeee192ea8"
   },
   "outputs": [
    {
     "name": "stderr",
     "output_type": "stream",
     "text": [
      "W0826 16:55:22.563134 139747641997184 deprecation.py:323] From /usr/local/lib/python3.6/dist-packages/tensorflow/python/ops/math_grad.py:1250: add_dispatch_support.<locals>.wrapper (from tensorflow.python.ops.array_ops) is deprecated and will be removed in a future version.\n",
      "Instructions for updating:\n",
      "Use tf.where in 2.0, which has the same broadcast rule as np.where\n"
     ]
    },
    {
     "name": "stdout",
     "output_type": "stream",
     "text": [
      "Epoch 21/50\n",
      "700/700 [==============================] - 885s 1s/step - loss: 0.4881 - val_loss: 0.4952\n",
      "Epoch 22/50\n",
      "700/700 [==============================] - 883s 1s/step - loss: 0.4862 - val_loss: 0.4939\n",
      "Epoch 23/50\n",
      "700/700 [==============================] - 882s 1s/step - loss: 0.4849 - val_loss: 0.4934\n",
      "Epoch 24/50\n",
      "700/700 [==============================] - 883s 1s/step - loss: 0.4836 - val_loss: 0.4920\n",
      "Epoch 25/50\n",
      "700/700 [==============================] - 885s 1s/step - loss: 0.4824 - val_loss: 0.4916\n",
      "Epoch 26/50\n",
      "700/700 [==============================] - 882s 1s/step - loss: 0.4815 - val_loss: 0.4905\n",
      "Epoch 27/50\n",
      "700/700 [==============================] - 881s 1s/step - loss: 0.4804 - val_loss: 0.4895\n",
      "Epoch 28/50\n",
      "700/700 [==============================] - 883s 1s/step - loss: 0.4794 - val_loss: 0.4890\n",
      "Epoch 29/50\n",
      "700/700 [==============================] - 880s 1s/step - loss: 0.4787 - val_loss: 0.4888\n",
      "Epoch 30/50\n",
      "700/700 [==============================] - 882s 1s/step - loss: 0.4779 - val_loss: 0.4877\n",
      "Epoch 31/50\n",
      "700/700 [==============================] - 882s 1s/step - loss: 0.4770 - val_loss: 0.4881\n",
      "Epoch 32/50\n",
      "700/700 [==============================] - 882s 1s/step - loss: 0.4765 - val_loss: 0.4868\n",
      "Epoch 33/50\n",
      "700/700 [==============================] - 880s 1s/step - loss: 0.4762 - val_loss: 0.4865\n",
      "Epoch 34/50\n",
      "700/700 [==============================] - 878s 1s/step - loss: 0.4754 - val_loss: 0.4866\n",
      "Epoch 35/50\n",
      "700/700 [==============================] - 876s 1s/step - loss: 0.4746 - val_loss: 0.4855\n",
      "Epoch 36/50\n",
      "700/700 [==============================] - 880s 1s/step - loss: 0.4740 - val_loss: 0.4857\n",
      "Epoch 37/50\n",
      "700/700 [==============================] - 880s 1s/step - loss: 0.4733 - val_loss: 0.4849\n",
      "Epoch 38/50\n",
      "700/700 [==============================] - 879s 1s/step - loss: 0.4731 - val_loss: 0.4847\n",
      "Epoch 39/50\n",
      "700/700 [==============================] - 880s 1s/step - loss: 0.4723 - val_loss: 0.4842\n",
      "Epoch 40/50\n",
      "700/700 [==============================] - 880s 1s/step - loss: 0.4718 - val_loss: 0.4842\n",
      "Epoch 41/50\n",
      "700/700 [==============================] - 880s 1s/step - loss: 0.4714 - val_loss: 0.4833\n",
      "Epoch 42/50\n",
      "700/700 [==============================] - 877s 1s/step - loss: 0.4708 - val_loss: 0.4836\n",
      "Epoch 43/50\n",
      "700/700 [==============================] - 880s 1s/step - loss: 0.4704 - val_loss: 0.4831\n",
      "Epoch 44/50\n",
      "700/700 [==============================] - 880s 1s/step - loss: 0.4700 - val_loss: 0.4823\n",
      "Epoch 45/50\n",
      "700/700 [==============================] - 883s 1s/step - loss: 0.4734 - val_loss: 0.4862\n",
      "Epoch 46/50\n",
      "700/700 [==============================] - 879s 1s/step - loss: 0.4720 - val_loss: 0.4828\n",
      "Epoch 47/50\n",
      "700/700 [==============================] - 880s 1s/step - loss: 0.4698 - val_loss: 0.4822\n",
      "Epoch 48/50\n",
      "700/700 [==============================] - 879s 1s/step - loss: 0.4687 - val_loss: 0.4816\n",
      "Epoch 49/50\n",
      "700/700 [==============================] - 880s 1s/step - loss: 0.4682 - val_loss: 0.4816\n",
      "Epoch 50/50\n",
      "700/700 [==============================] - 879s 1s/step - loss: 0.4678 - val_loss: 0.4813\n"
     ]
    }
   ],
   "source": [
    "HP.epocs = 50\n",
    "with tf.device('/device:GPU:0'):\n",
    "  history = seq_to_seq_VAE.fit_generator(train_generator,\n",
    "                       validation_data= ([validation_encoder, validation_decoder],[validation_encoder]),\n",
    "                       steps_per_epoch=(datas.trainDimention)/HP.batch_size, \n",
    "                       epochs=50, \n",
    "                       callbacks=[KL_wheight_schedule], initial_epoch = 20)\n",
    "# save the model\n",
    "seq_to_seq_VAE.save_weights(\"model_weight_carrot_50_epochs.h5\")\n"
   ]
  },
  {
   "cell_type": "code",
   "execution_count": null,
   "metadata": {
    "colab": {
     "base_uri": "https://localhost:8080/",
     "height": 313
    },
    "colab_type": "code",
    "id": "N2kRnCnZ_a7t",
    "outputId": "8cca2e3b-611d-472f-fd40-4261472b64c3"
   },
   "outputs": [
    {
     "name": "stdout",
     "output_type": "stream",
     "text": [
      "dict_keys(['loss', 'val_loss'])\n"
     ]
    },
    {
     "data": {
      "image/png": "[encoded data removed]",
      "text/plain": [
       "<Figure size 432x288 with 1 Axes>"
      ]
     },
     "metadata": {
      "tags": []
     },
     "output_type": "display_data"
    }
   ],
   "source": [
    "import matplotlib.pyplot as plt\n",
    "import numpy as np\n",
    "print(history.history.keys())\n",
    "# summarize history for loss\n",
    "plt.plot(history.history['loss'])\n",
    "plt.plot(history.history['val_loss'])\n",
    "plt.title('model loss')\n",
    "plt.ylabel('loss')\n",
    "plt.xlabel('epoch')\n",
    "plt.legend(['train', 'test'], loc='upper left')\n",
    "plt.show()"
   ]
  },
  {
   "cell_type": "code",
   "execution_count": null,
   "metadata": {
    "colab": {},
    "colab_type": "code",
    "id": "e6Ix-Ij6-SQO"
   },
   "outputs": [],
   "source": []
  }
 ],
 "metadata": {
  "accelerator": "GPU",
  "colab": {
   "collapsed_sections": [],
   "include_colab_link": true,
   "name": "ISPR_project.ipynb",
   "provenance": [],
   "version": "0.3.2"
  },
  "kernelspec": {
   "display_name": "Python 3 (ipykernel)",
   "language": "python",
   "name": "python3"
  },
  "language_info": {
   "codemirror_mode": {
    "name": "ipython",
    "version": 3
   },
   "file_extension": ".py",
   "mimetype": "text/x-python",
   "name": "python",
   "nbconvert_exporter": "python",
   "pygments_lexer": "ipython3",
   "version": "3.10.14"
  }
 },
 "nbformat": 4,
 "nbformat_minor": 4
}
